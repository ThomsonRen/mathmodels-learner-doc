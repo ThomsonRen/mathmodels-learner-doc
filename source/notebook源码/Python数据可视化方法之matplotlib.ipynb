{
 "cells": [
  {
   "cell_type": "markdown",
   "metadata": {
    "id": "7FE5DFAA88EE4BC3B72E488C70F96A55",
    "jupyter": {},
    "mdEditEnable": false,
    "slideshow": {
     "slide_type": "slide"
    },
    "tags": []
   },
   "source": [
    "本教程介绍python中进行简单数据可视化的方法，使用的工具是python中最基础的matplotlib库。"
   ]
  },
  {
   "cell_type": "markdown",
   "metadata": {
    "id": "989AC3D049AB47C18AC692D93C8C4641",
    "jupyter": {},
    "mdEditEnable": false,
    "slideshow": {
     "slide_type": "slide"
    },
    "tags": []
   },
   "source": [
    "# Matplotlib图表组成"
   ]
  },
  {
   "cell_type": "markdown",
   "metadata": {
    "id": "4E18FF256B5A4812A369979D6BA28AE7",
    "jupyter": {},
    "mdEditEnable": false,
    "slideshow": {
     "slide_type": "slide"
    },
    "tags": []
   },
   "source": [
    "## 准备数据"
   ]
  },
  {
   "cell_type": "markdown",
   "metadata": {
    "id": "6C904D892D3544AD870378D3DDF79FA8",
    "jupyter": {},
    "mdEditEnable": false,
    "slideshow": {
     "slide_type": "slide"
    },
    "tags": []
   },
   "source": [
    "数据可以手动输入，也可以通过文件进行导入，**本节内容较为简单，暂时采用手动输入的形式**，关于数据的导入方法，会在pandas教程中介绍。"
   ]
  },
  {
   "cell_type": "markdown",
   "metadata": {
    "id": "315691010AFE4523B2C5EC59A169C8EB",
    "jupyter": {},
    "mdEditEnable": false,
    "slideshow": {
     "slide_type": "slide"
    },
    "tags": []
   },
   "source": [
    "为了处理数据和绘图，我们首先导入第三方包Numpy和快速绘图模块pyplot，其中科学计算包Numpy是matplotlib库的基础，也就是说，matplotlib库是建立在Numpy库基础上的Python绘图库。"
   ]
  },
  {
   "cell_type": "code",
   "execution_count": 1,
   "metadata": {
    "id": "D038364B44A747BEA5F25301D0F95E41",
    "jupyter": {},
    "scrolled": false,
    "slideshow": {
     "slide_type": "slide"
    },
    "tags": []
   },
   "outputs": [],
   "source": [
    "import numpy as np\n",
    "import matplotlib.pyplot as plt\n",
    "#plt.style.use(\"ggplot\") #指定绘图风格为ggplot"
   ]
  },
  {
   "cell_type": "code",
   "execution_count": 2,
   "metadata": {
    "id": "0E9E76CD5B6D41A9BD442E90C5392267",
    "jupyter": {},
    "scrolled": false,
    "slideshow": {
     "slide_type": "slide"
    },
    "tags": []
   },
   "outputs": [],
   "source": [
    "#plt.style.available # 这里给出了其他可用的一些风格"
   ]
  },
  {
   "cell_type": "markdown",
   "metadata": {
    "id": "68B17DF5A2B34B4F84183A6663970903",
    "jupyter": {},
    "mdEditEnable": false,
    "slideshow": {
     "slide_type": "slide"
    },
    "tags": []
   },
   "source": [
    "现在我们就可以定义一些完成绘图所需的数据了，例如"
   ]
  },
  {
   "cell_type": "code",
   "execution_count": 7,
   "metadata": {
    "id": "7BD98A10A8C040E59A70216225A96B40",
    "jupyter": {},
    "scrolled": false,
    "slideshow": {
     "slide_type": "slide"
    },
    "tags": []
   },
   "outputs": [],
   "source": [
    "x = np.linspace(0.5,3.5,100) # 在0.5到3.5之间均匀地取100个数\n",
    "y = np.sin(x)           # 求出每一个数对应的正弦值\n",
    "y1 = np.random.randn(100) # 在标准正态分布中随机地取100个数"
   ]
  },
  {
   "cell_type": "code",
   "execution_count": 8,
   "metadata": {
    "id": "44C014BFE10A4A708F6E927A38EAD73C",
    "jupyter": {},
    "scrolled": false,
    "slideshow": {
     "slide_type": "slide"
    },
    "tags": []
   },
   "outputs": [
    {
     "data": {
      "image/png": "[encoded data removed]",
      "text/plain": [
       "<matplotlib.figure.Figure at 0x116302358>"
      ]
     },
     "metadata": {
      "needs_background": "light"
     },
     "output_type": "display_data"
    }
   ],
   "source": [
    "plt.plot(x,y)   # 绘制(x,y)\n",
    "plt.scatter(x,y1) # 绘制(x,y1)\n",
    "\n",
    "plt.savefig('../images/python_basic/图表组成.svg',bbox_inches = 'tight')\n",
    "\n"
   ]
  },
  {
   "cell_type": "markdown",
   "metadata": {
    "id": "B76CF1E8BB9A41FCB4F59B36C539D7EB",
    "jupyter": {},
    "mdEditEnable": false,
    "slideshow": {
     "slide_type": "slide"
    },
    "tags": []
   },
   "source": [
    "## 绘图函数的用法"
   ]
  },
  {
   "cell_type": "markdown",
   "metadata": {
    "id": "3B6484F0CC0840E08A36AB44D5067C13",
    "jupyter": {},
    "mdEditEnable": false,
    "slideshow": {
     "slide_type": "slide"
    },
    "tags": []
   },
   "source": [
    "下面我们通过函数的形式来学习绘图，反过来，再用绘图的形式来强化对函数的记忆。"
   ]
  },
  {
   "cell_type": "markdown",
   "metadata": {
    "id": "5D9D48B56D13428DA0CAA8EE5D77783D",
    "jupyter": {},
    "mdEditEnable": false,
    "slideshow": {
     "slide_type": "slide"
    },
    "tags": []
   },
   "source": [
    "### 函数`plot()` ——展现变量的变化趋势"
   ]
  },
  {
   "cell_type": "markdown",
   "metadata": {
    "id": "93B7284A2316415285B01A5F2765538D",
    "jupyter": {},
    "mdEditEnable": false,
    "slideshow": {
     "slide_type": "slide"
    },
    "tags": []
   },
   "source": [
    "- 函数功能：展现变量的变化趋势\n",
    "- 调用方法：`plt.plot(x,y,ls='-',lw=2,label='plot figure')`\n",
    "- 参数说明\n",
    "    * `x`: $x$轴上的数值\n",
    "    * `y`: $y$轴上的数值\n",
    "    * `ls`: linestyle,折线的线条风格\n",
    "    * `lw`: linewidth,折线的线条宽度\n",
    "    * `label`: 标记图形内容的标签文本  "
   ]
  },
  {
   "cell_type": "code",
   "execution_count": 9,
   "metadata": {
    "id": "80F848BB88154A828FD477791B1A0961",
    "jupyter": {},
    "scrolled": false,
    "slideshow": {
     "slide_type": "slide"
    },
    "tags": []
   },
   "outputs": [
    {
     "data": {
      "image/png": "[encoded data removed]",
      "text/plain": [
       "<matplotlib.figure.Figure at 0x11666d748>"
      ]
     },
     "metadata": {
      "needs_background": "light"
     },
     "output_type": "display_data"
    }
   ],
   "source": [
    "x = np.linspace(0,10,50)  # 生成从0.05 到 10 等分的1000个数据\n",
    "y = np.cos(x) # 计算x的余弦值\n",
    "plt.plot(x,y,ls='--',lw=4,label='My First Line')  # 线性为虚线--，线宽为6，标签为'My first line'\n",
    "plt.legend()   # 显示图例，不加这一句则不显示图例\n",
    "\n",
    "plt.savefig('../images/python_basic/plot函数.svg',bbox_inches = 'tight')"
   ]
  },
  {
   "cell_type": "markdown",
   "metadata": {
    "id": "F47EAFDC711143448A3E15106EF3BA94",
    "jupyter": {},
    "mdEditEnable": false,
    "slideshow": {
     "slide_type": "slide"
    },
    "tags": []
   },
   "source": [
    "课堂练习：\n",
    "\n",
    "绘制以下函数图像,并调整为你喜欢的格式。\n",
    "$$\n",
    "y = \\sin^2(x)\\cos^2(x),x\\in[-3,3] \n",
    "$$"
   ]
  },
  {
   "cell_type": "code",
   "execution_count": 6,
   "metadata": {
    "id": "A2A4429403B7448781CC47271233DE55",
    "jupyter": {},
    "scrolled": false,
    "slideshow": {
     "slide_type": "slide"
    },
    "tags": []
   },
   "outputs": [
    {
     "data": {
      "text/plain": [
       "[<matplotlib.lines.Line2D at 0x7f544d36dd30>]"
      ]
     },
     "execution_count": 6,
     "metadata": {},
     "output_type": "execute_result"
    },
    {
     "data": {
      "text/html": [
       "<img src=\"https://cdn.kesci.com/rt_upload/A2A4429403B7448781CC47271233DE55/q7ykv8cz4c.png\">"
      ],
      "text/plain": [
       "<Figure size 432x288 with 1 Axes>"
      ]
     },
     "metadata": {
      "needs_background": "light"
     },
     "output_type": "display_data"
    }
   ],
   "source": [
    "import matplotlib.pyplot as plt \n",
    "import numpy as np\n",
    "\n",
    "x = np.linspace(-3,3,100)\n",
    "y = np.sin(x)**2 * np.cos(x)**2\n",
    "plt.plot(x,y)"
   ]
  },
  {
   "cell_type": "code",
   "execution_count": 7,
   "metadata": {
    "collapsed": true,
    "id": "06965A88FE374A388B377B99AC2E055E",
    "jupyter": {},
    "scrolled": true,
    "slideshow": {
     "slide_type": "slide"
    },
    "tags": []
   },
   "outputs": [
    {
     "name": "stdout",
     "output_type": "stream",
     "text": [
      "Help on function plot in module matplotlib.pyplot:\n",
      "\n",
      "plot(*args, scalex=True, scaley=True, data=None, **kwargs)\n",
      "    Plot y versus x as lines and/or markers.\n",
      "    \n",
      "    Call signatures::\n",
      "    \n",
      "        plot([x], y, [fmt], *, data=None, **kwargs)\n",
      "        plot([x], y, [fmt], [x2], y2, [fmt2], ..., **kwargs)\n",
      "    \n",
      "    The coordinates of the points or line nodes are given by *x*, *y*.\n",
      "    \n",
      "    The optional parameter *fmt* is a convenient way for defining basic\n",
      "    formatting like color, marker and linestyle. It's a shortcut string\n",
      "    notation described in the *Notes* section below.\n",
      "    \n",
      "    >>> plot(x, y)        # plot x and y using default line style and color\n",
      "    >>> plot(x, y, 'bo')  # plot x and y using blue circle markers\n",
      "    >>> plot(y)           # plot y using x as index array 0..N-1\n",
      "    >>> plot(y, 'r+')     # ditto, but with red plusses\n",
      "    \n",
      "    You can use `.Line2D` properties as keyword arguments for more\n",
      "    control on the appearance. Line properties and *fmt* can be mixed.\n",
      "    The following two calls yield identical results:\n",
      "    \n",
      "    >>> plot(x, y, 'go--', linewidth=2, markersize=12)\n",
      "    >>> plot(x, y, color='green', marker='o', linestyle='dashed',\n",
      "    ...      linewidth=2, markersize=12)\n",
      "    \n",
      "    When conflicting with *fmt*, keyword arguments take precedence.\n",
      "    \n",
      "    \n",
      "    **Plotting labelled data**\n",
      "    \n",
      "    There's a convenient way for plotting objects with labelled data (i.e.\n",
      "    data that can be accessed by index ``obj['y']``). Instead of giving\n",
      "    the data in *x* and *y*, you can provide the object in the *data*\n",
      "    parameter and just give the labels for *x* and *y*::\n",
      "    \n",
      "    >>> plot('xlabel', 'ylabel', data=obj)\n",
      "    \n",
      "    All indexable objects are supported. This could e.g. be a `dict`, a\n",
      "    `pandas.DataFame` or a structured numpy array.\n",
      "    \n",
      "    \n",
      "    **Plotting multiple sets of data**\n",
      "    \n",
      "    There are various ways to plot multiple sets of data.\n",
      "    \n",
      "    - The most straight forward way is just to call `plot` multiple times.\n",
      "      Example:\n",
      "    \n",
      "      >>> plot(x1, y1, 'bo')\n",
      "      >>> plot(x2, y2, 'go')\n",
      "    \n",
      "    - Alternatively, if your data is already a 2d array, you can pass it\n",
      "      directly to *x*, *y*. A separate data set will be drawn for every\n",
      "      column.\n",
      "    \n",
      "      Example: an array ``a`` where the first column represents the *x*\n",
      "      values and the other columns are the *y* columns::\n",
      "    \n",
      "      >>> plot(a[0], a[1:])\n",
      "    \n",
      "    - The third way is to specify multiple sets of *[x]*, *y*, *[fmt]*\n",
      "      groups::\n",
      "    \n",
      "      >>> plot(x1, y1, 'g^', x2, y2, 'g-')\n",
      "    \n",
      "      In this case, any additional keyword argument applies to all\n",
      "      datasets. Also this syntax cannot be combined with the *data*\n",
      "      parameter.\n",
      "    \n",
      "    By default, each line is assigned a different style specified by a\n",
      "    'style cycle'. The *fmt* and line property parameters are only\n",
      "    necessary if you want explicit deviations from these defaults.\n",
      "    Alternatively, you can also change the style cycle using the\n",
      "    'axes.prop_cycle' rcParam.\n",
      "    \n",
      "    \n",
      "    Parameters\n",
      "    ----------\n",
      "    x, y : array-like or scalar\n",
      "        The horizontal / vertical coordinates of the data points.\n",
      "        *x* values are optional and default to `range(len(y))`.\n",
      "    \n",
      "        Commonly, these parameters are 1D arrays.\n",
      "    \n",
      "        They can also be scalars, or two-dimensional (in that case, the\n",
      "        columns represent separate data sets).\n",
      "    \n",
      "        These arguments cannot be passed as keywords.\n",
      "    \n",
      "    fmt : str, optional\n",
      "        A format string, e.g. 'ro' for red circles. See the *Notes*\n",
      "        section for a full description of the format strings.\n",
      "    \n",
      "        Format strings are just an abbreviation for quickly setting\n",
      "        basic line properties. All of these and more can also be\n",
      "        controlled by keyword arguments.\n",
      "    \n",
      "        This argument cannot be passed as keyword.\n",
      "    \n",
      "    data : indexable object, optional\n",
      "        An object with labelled data. If given, provide the label names to\n",
      "        plot in *x* and *y*.\n",
      "    \n",
      "        .. note::\n",
      "            Technically there's a slight ambiguity in calls where the\n",
      "            second label is a valid *fmt*. `plot('n', 'o', data=obj)`\n",
      "            could be `plt(x, y)` or `plt(y, fmt)`. In such cases,\n",
      "            the former interpretation is chosen, but a warning is issued.\n",
      "            You may suppress the warning by adding an empty format string\n",
      "            `plot('n', 'o', '', data=obj)`.\n",
      "    \n",
      "    Other Parameters\n",
      "    ----------------\n",
      "    scalex, scaley : bool, optional, default: True\n",
      "        These parameters determined if the view limits are adapted to\n",
      "        the data limits. The values are passed on to `autoscale_view`.\n",
      "    \n",
      "    **kwargs : `.Line2D` properties, optional\n",
      "        *kwargs* are used to specify properties like a line label (for\n",
      "        auto legends), linewidth, antialiasing, marker face color.\n",
      "        Example::\n",
      "    \n",
      "        >>> plot([1,2,3], [1,2,3], 'go-', label='line 1', linewidth=2)\n",
      "        >>> plot([1,2,3], [1,4,9], 'rs',  label='line 2')\n",
      "    \n",
      "        If you make multiple lines with one plot command, the kwargs\n",
      "        apply to all those lines.\n",
      "    \n",
      "        Here is a list of available `.Line2D` properties:\n",
      "    \n",
      "      agg_filter: a filter function, which takes a (m, n, 3) float array and a dpi value, and returns a (m, n, 3) array\n",
      "      alpha: float\n",
      "      animated: bool\n",
      "      antialiased or aa: bool\n",
      "      clip_box: `.Bbox`\n",
      "      clip_on: bool\n",
      "      clip_path: [(`~matplotlib.path.Path`, `.Transform`) | `.Patch` | None]\n",
      "      color or c: color\n",
      "      contains: callable\n",
      "      dash_capstyle: {'butt', 'round', 'projecting'}\n",
      "      dash_joinstyle: {'miter', 'round', 'bevel'}\n",
      "      dashes: sequence of floats (on/off ink in points) or (None, None)\n",
      "      drawstyle or ds: {'default', 'steps', 'steps-pre', 'steps-mid', 'steps-post'}, default: 'default'\n",
      "      figure: `.Figure`\n",
      "      fillstyle: {'full', 'left', 'right', 'bottom', 'top', 'none'}\n",
      "      gid: str\n",
      "      in_layout: bool\n",
      "      label: object\n",
      "      linestyle or ls: {'-', '--', '-.', ':', '', (offset, on-off-seq), ...}\n",
      "      linewidth or lw: float\n",
      "      marker: marker style\n",
      "      markeredgecolor or mec: color\n",
      "      markeredgewidth or mew: float\n",
      "      markerfacecolor or mfc: color\n",
      "      markerfacecoloralt or mfcalt: color\n",
      "      markersize or ms: float\n",
      "      markevery: None or int or (int, int) or slice or List[int] or float or (float, float)\n",
      "      path_effects: `.AbstractPathEffect`\n",
      "      picker: float or callable[[Artist, Event], Tuple[bool, dict]]\n",
      "      pickradius: float\n",
      "      rasterized: bool or None\n",
      "      sketch_params: (scale: float, length: float, randomness: float)\n",
      "      snap: bool or None\n",
      "      solid_capstyle: {'butt', 'round', 'projecting'}\n",
      "      solid_joinstyle: {'miter', 'round', 'bevel'}\n",
      "      transform: `matplotlib.transforms.Transform`\n",
      "      url: str\n",
      "      visible: bool\n",
      "      xdata: 1D array\n",
      "      ydata: 1D array\n",
      "      zorder: float\n",
      "    \n",
      "    Returns\n",
      "    -------\n",
      "    lines\n",
      "        A list of `.Line2D` objects representing the plotted data.\n",
      "    \n",
      "    See Also\n",
      "    --------\n",
      "    scatter : XY scatter plot with markers of varying size and/or color (\n",
      "        sometimes also called bubble chart).\n",
      "    \n",
      "    Notes\n",
      "    -----\n",
      "    **Format Strings**\n",
      "    \n",
      "    A format string consists of a part for color, marker and line::\n",
      "    \n",
      "        fmt = '[marker][line][color]'\n",
      "    \n",
      "    Each of them is optional. If not provided, the value from the style\n",
      "    cycle is used. Exception: If ``line`` is given, but no ``marker``,\n",
      "    the data will be a line without markers.\n",
      "    \n",
      "    Other combinations such as ``[color][marker][line]`` are also\n",
      "    supported, but note that their parsing may be ambiguous.\n",
      "    \n",
      "    **Markers**\n",
      "    \n",
      "    =============    ===============================\n",
      "    character        description\n",
      "    =============    ===============================\n",
      "    ``'.'``          point marker\n",
      "    ``','``          pixel marker\n",
      "    ``'o'``          circle marker\n",
      "    ``'v'``          triangle_down marker\n",
      "    ``'^'``          triangle_up marker\n",
      "    ``'<'``          triangle_left marker\n",
      "    ``'>'``          triangle_right marker\n",
      "    ``'1'``          tri_down marker\n",
      "    ``'2'``          tri_up marker\n",
      "    ``'3'``          tri_left marker\n",
      "    ``'4'``          tri_right marker\n",
      "    ``'s'``          square marker\n",
      "    ``'p'``          pentagon marker\n",
      "    ``'*'``          star marker\n",
      "    ``'h'``          hexagon1 marker\n",
      "    ``'H'``          hexagon2 marker\n",
      "    ``'+'``          plus marker\n",
      "    ``'x'``          x marker\n",
      "    ``'D'``          diamond marker\n",
      "    ``'d'``          thin_diamond marker\n",
      "    ``'|'``          vline marker\n",
      "    ``'_'``          hline marker\n",
      "    =============    ===============================\n",
      "    \n",
      "    **Line Styles**\n",
      "    \n",
      "    =============    ===============================\n",
      "    character        description\n",
      "    =============    ===============================\n",
      "    ``'-'``          solid line style\n",
      "    ``'--'``         dashed line style\n",
      "    ``'-.'``         dash-dot line style\n",
      "    ``':'``          dotted line style\n",
      "    =============    ===============================\n",
      "    \n",
      "    Example format strings::\n",
      "    \n",
      "        'b'    # blue markers with default shape\n",
      "        'or'   # red circles\n",
      "        '-g'   # green solid line\n",
      "        '--'   # dashed line with default color\n",
      "        '^k:'  # black triangle_up markers connected by a dotted line\n",
      "    \n",
      "    **Colors**\n",
      "    \n",
      "    The supported color abbreviations are the single letter codes\n",
      "    \n",
      "    =============    ===============================\n",
      "    character        color\n",
      "    =============    ===============================\n",
      "    ``'b'``          blue\n",
      "    ``'g'``          green\n",
      "    ``'r'``          red\n",
      "    ``'c'``          cyan\n",
      "    ``'m'``          magenta\n",
      "    ``'y'``          yellow\n",
      "    ``'k'``          black\n",
      "    ``'w'``          white\n",
      "    =============    ===============================\n",
      "    \n",
      "    and the ``'CN'`` colors that index into the default property cycle.\n",
      "    \n",
      "    If the color is the only part of the format string, you can\n",
      "    additionally use any  `matplotlib.colors` spec, e.g. full names\n",
      "    (``'green'``) or hex strings (``'#008000'``).\n",
      "\n"
     ]
    }
   ],
   "source": [
    "help(plt.plot)"
   ]
  },
  {
   "cell_type": "code",
   "execution_count": null,
   "metadata": {
    "id": "64A8F085185F4782A8553CC986815A15",
    "jupyter": {},
    "slideshow": {
     "slide_type": "slide"
    },
    "tags": []
   },
   "outputs": [],
   "source": []
  },
  {
   "cell_type": "markdown",
   "metadata": {
    "id": "D5181AB96759428A8161A30247E0524A",
    "jupyter": {},
    "mdEditEnable": false,
    "slideshow": {
     "slide_type": "slide"
    },
    "tags": []
   },
   "source": [
    "### 函数`scatter()` ——寻找变量之间的关系"
   ]
  },
  {
   "cell_type": "markdown",
   "metadata": {
    "id": "1F9CA0BD89474F9A82552C6EE0CBFA58",
    "jupyter": {},
    "mdEditEnable": false,
    "slideshow": {
     "slide_type": "slide"
    },
    "tags": []
   },
   "source": [
    "- 函数功能：散点图，寻找变量之间的关系\n",
    "- 调用方法：`plt.scatter(x,y,c='b',label = 'scatter figure')`\n",
    "- 参数说明\n",
    "    * `x`: $x$轴上的数值\n",
    "    * `y`: $y$轴上的数值\n",
    "    * `c`: 散点图中的标记颜色\n",
    "    * `label`: 标记图形内容的标签文本  "
   ]
  },
  {
   "cell_type": "code",
   "execution_count": 10,
   "metadata": {
    "id": "8743650BFD9C4E20ADA9FB1691ED0A5C",
    "jupyter": {},
    "scrolled": false,
    "slideshow": {
     "slide_type": "slide"
    },
    "tags": []
   },
   "outputs": [
    {
     "data": {
      "image/png": "[encoded data removed]",
      "text/plain": [
       "<matplotlib.figure.Figure at 0x113edf0b8>"
      ]
     },
     "metadata": {
      "needs_background": "light"
     },
     "output_type": "display_data"
    }
   ],
   "source": [
    "x = np.linspace(0.05,10,100) # 生成从0.05 到 10 等分的100个数据\n",
    "y = np.random.rand(100) # 生成100个正态分布的随机数\n",
    "plt.scatter(x,y,c= 'b',label='my figure') \n",
    "\n",
    "y1 = np.random.rand(100) # 生成100个正态分布的随机数\n",
    "plt.scatter(x,y1,c= 'r',label='red') \n",
    "plt.legend()\n",
    "\n",
    "\n",
    "plt.savefig('../images/python_basic/scatter函数.svg',bbox_inches = 'tight')\n"
   ]
  },
  {
   "cell_type": "markdown",
   "metadata": {
    "id": "FFD238E69D3649A087EEB9E45D23BC62",
    "jupyter": {},
    "mdEditEnable": false,
    "scrolled": false,
    "slideshow": {
     "slide_type": "slide"
    },
    "tags": []
   },
   "source": [
    "\n",
    "###  设置x轴的数值显示范围函数`xlim()`"
   ]
  },
  {
   "cell_type": "markdown",
   "metadata": {
    "id": "276DEB3A6B484BB981BB58F49675D359",
    "jupyter": {},
    "mdEditEnable": false,
    "slideshow": {
     "slide_type": "slide"
    },
    "tags": []
   },
   "source": [
    "- 函数功能：设置$x$轴的数值显示范围\n",
    "- 调用方法：`plt.xlim(xmin,xmax)`\n",
    "- 参数说明\n",
    "    * `xmin`: $x$轴上的最小值\n",
    "    * `xmax`: $x$轴上的最大值\n",
    "    * 同样的方法可以用在`plt.ylim()`上"
   ]
  },
  {
   "cell_type": "code",
   "execution_count": 11,
   "metadata": {
    "id": "A8DFBB56549445188640BF0C0C514E72",
    "jupyter": {},
    "scrolled": false,
    "slideshow": {
     "slide_type": "slide"
    },
    "tags": []
   },
   "outputs": [
    {
     "data": {
      "image/png": "[encoded data removed]",
      "text/plain": [
       "<matplotlib.figure.Figure at 0x113eebdd8>"
      ]
     },
     "metadata": {
      "needs_background": "light"
     },
     "output_type": "display_data"
    }
   ],
   "source": [
    "x = np.linspace(0.05,10,100)  # 生成从0.05 到 10 等分的100个数据\n",
    "y = np.random.rand(100)# 生成100个正态分布的随机数\n",
    "y1 = np.random.rand(100) # 生成100个正态分布的随机数\n",
    "\n",
    "plt.scatter(x,y,c= 'b',label='scatter figure')  # 绘制第一组数据\n",
    "plt.scatter(x,y1,c= 'r',label='scatter figure2') # 绘制第二组数据\n",
    "\n",
    "plt.legend() # 增加图例\n",
    "plt.xlim(-1,11) # 设置x轴显示范围\n",
    "plt.ylim(-0.1,1.2) # 设置y轴显示范围\n",
    "\n",
    "\n",
    "plt.savefig('../images/python_basic/xlim.svg',bbox_inches = 'tight')\n",
    "\n"
   ]
  },
  {
   "cell_type": "markdown",
   "metadata": {
    "id": "7784EA0CE2EC459C867220249E5F71E3",
    "jupyter": {},
    "mdEditEnable": false,
    "slideshow": {
     "slide_type": "slide"
    },
    "tags": []
   },
   "source": [
    "注意：除非特殊情况，不推荐大家自定坐标轴显示范围。"
   ]
  },
  {
   "cell_type": "markdown",
   "metadata": {
    "id": "F792ED3C85A442D08B60DC5C5F6F4629",
    "jupyter": {},
    "mdEditEnable": false,
    "slideshow": {
     "slide_type": "slide"
    },
    "tags": []
   },
   "source": [
    "### 函数`xlabel()` ——设置x轴的标签文本"
   ]
  },
  {
   "cell_type": "markdown",
   "metadata": {
    "id": "4A95AA50E77548E082FA892394B6947E",
    "jupyter": {},
    "mdEditEnable": false,
    "slideshow": {
     "slide_type": "slide"
    },
    "tags": []
   },
   "source": [
    "- 函数功能：设置$x$轴的标签文本\n",
    "- 调用方法：`plt.xlabel(string)`\n",
    "- 参数说明\n",
    "    * `string`: 标签文本内容\n",
    "    * 同样的方法可以用在`plt.ylabel()`上"
   ]
  },
  {
   "cell_type": "code",
   "execution_count": 12,
   "metadata": {
    "id": "0F2C5D2222D644EAAAA4EACDCBC08709",
    "jupyter": {},
    "scrolled": false,
    "slideshow": {
     "slide_type": "slide"
    },
    "tags": []
   },
   "outputs": [
    {
     "data": {
      "image/png": "[encoded data removed]",
      "text/plain": [
       "<matplotlib.figure.Figure at 0x113e7e2e8>"
      ]
     },
     "metadata": {
      "needs_background": "light"
     },
     "output_type": "display_data"
    }
   ],
   "source": [
    "x = np.linspace(0.05, 10, 100)  # 生成从0.05 到 10 等分的100个数据\n",
    "y = np.random.rand(100)   # 生成100个正态分布的随机数\n",
    "plt.scatter(x, y, c='b', label='scatter figure')  # 绘图\n",
    "plt.legend()  # 增加图例\n",
    "plt.xlim(0.05, 10)  # 设置x轴显示范围\n",
    "plt.ylim(0, 1)  # 设置y轴显示范围\n",
    "plt.xlabel('My x label') # 设置x轴标签\n",
    "plt.ylabel('My y label') # 设置y轴标签\n",
    "\n",
    "plt.savefig('../images/python_basic/xlabel.svg',bbox_inches = 'tight')\n"
   ]
  },
  {
   "cell_type": "markdown",
   "metadata": {
    "id": "B9AD7B0C60EE4F4E955715FC031EE161",
    "jupyter": {},
    "mdEditEnable": false,
    "slideshow": {
     "slide_type": "slide"
    },
    "tags": []
   },
   "source": [
    "### 函数`grid() `——绘制刻度线的网格线"
   ]
  },
  {
   "cell_type": "markdown",
   "metadata": {
    "id": "8359BC9982E242A6AED10C1C7C5D6FAA",
    "jupyter": {},
    "mdEditEnable": false,
    "slideshow": {
     "slide_type": "slide"
    },
    "tags": []
   },
   "source": [
    "- 函数功能：绘制刻度线的网格线\n",
    "- 调用方法：`plt.grid(linestyle = ':', color = 'r')`\n",
    "- 参数说明\n",
    "    * `linestyle`: 网格的线条风格\n",
    "    * `color`: 网格的线条颜色"
   ]
  },
  {
   "cell_type": "code",
   "execution_count": 13,
   "metadata": {
    "id": "A249FE9A5B4144888914067C2145D601",
    "jupyter": {},
    "scrolled": false,
    "slideshow": {
     "slide_type": "slide"
    },
    "tags": []
   },
   "outputs": [
    {
     "data": {
      "image/png": "[encoded data removed]",
      "text/plain": [
       "<matplotlib.figure.Figure at 0x11678d4e0>"
      ]
     },
     "metadata": {
      "needs_background": "light"
     },
     "output_type": "display_data"
    }
   ],
   "source": [
    "x = np.linspace(0.05,10,100)\n",
    "y = np.random.rand(100)\n",
    "plt.scatter(x,y,c= 'b',label='scatter figure')\n",
    "plt.legend()\n",
    "plt.xlim(0.05,10)\n",
    "plt.ylim(0,1)\n",
    "plt.xlabel('My x-axis')\n",
    "plt.ylabel('My y-axis')\n",
    "plt.grid(linestyle = '-', color = 'black',alpha = 0.3)  # 增加刻度线\n",
    "\n",
    "plt.savefig('../images/python_basic/grid.svg',bbox_inches = 'tight')"
   ]
  },
  {
   "cell_type": "code",
   "execution_count": 9,
   "metadata": {
    "collapsed": true,
    "id": "7B71ABF1E381487F92BC2BFFFEF65134",
    "jupyter": {},
    "scrolled": false,
    "slideshow": {
     "slide_type": "slide"
    },
    "tags": []
   },
   "outputs": [
    {
     "name": "stdout",
     "output_type": "stream",
     "text": [
      "Help on function grid in module matplotlib.pyplot:\n",
      "\n",
      "grid(b=None, which='major', axis='both', **kwargs)\n",
      "    Configure the grid lines.\n",
      "    \n",
      "    Parameters\n",
      "    ----------\n",
      "    b : bool or None, optional\n",
      "        Whether to show the grid lines. If any *kwargs* are supplied,\n",
      "        it is assumed you want the grid on and *b* will be set to True.\n",
      "    \n",
      "        If *b* is *None* and there are no *kwargs*, this toggles the\n",
      "        visibility of the lines.\n",
      "    \n",
      "    which : {'major', 'minor', 'both'}, optional\n",
      "        The grid lines to apply the changes on.\n",
      "    \n",
      "    axis : {'both', 'x', 'y'}, optional\n",
      "        The axis to apply the changes on.\n",
      "    \n",
      "    **kwargs : `.Line2D` properties\n",
      "        Define the line properties of the grid, e.g.::\n",
      "    \n",
      "            grid(color='r', linestyle='-', linewidth=2)\n",
      "    \n",
      "        Valid *kwargs* are\n",
      "    \n",
      "      agg_filter: a filter function, which takes a (m, n, 3) float array and a dpi value, and returns a (m, n, 3) array\n",
      "      alpha: float\n",
      "      animated: bool\n",
      "      antialiased or aa: bool\n",
      "      clip_box: `.Bbox`\n",
      "      clip_on: bool\n",
      "      clip_path: [(`~matplotlib.path.Path`, `.Transform`) | `.Patch` | None]\n",
      "      color or c: color\n",
      "      contains: callable\n",
      "      dash_capstyle: {'butt', 'round', 'projecting'}\n",
      "      dash_joinstyle: {'miter', 'round', 'bevel'}\n",
      "      dashes: sequence of floats (on/off ink in points) or (None, None)\n",
      "      drawstyle or ds: {'default', 'steps', 'steps-pre', 'steps-mid', 'steps-post'}, default: 'default'\n",
      "      figure: `.Figure`\n",
      "      fillstyle: {'full', 'left', 'right', 'bottom', 'top', 'none'}\n",
      "      gid: str\n",
      "      in_layout: bool\n",
      "      label: object\n",
      "      linestyle or ls: {'-', '--', '-.', ':', '', (offset, on-off-seq), ...}\n",
      "      linewidth or lw: float\n",
      "      marker: marker style\n",
      "      markeredgecolor or mec: color\n",
      "      markeredgewidth or mew: float\n",
      "      markerfacecolor or mfc: color\n",
      "      markerfacecoloralt or mfcalt: color\n",
      "      markersize or ms: float\n",
      "      markevery: None or int or (int, int) or slice or List[int] or float or (float, float)\n",
      "      path_effects: `.AbstractPathEffect`\n",
      "      picker: float or callable[[Artist, Event], Tuple[bool, dict]]\n",
      "      pickradius: float\n",
      "      rasterized: bool or None\n",
      "      sketch_params: (scale: float, length: float, randomness: float)\n",
      "      snap: bool or None\n",
      "      solid_capstyle: {'butt', 'round', 'projecting'}\n",
      "      solid_joinstyle: {'miter', 'round', 'bevel'}\n",
      "      transform: `matplotlib.transforms.Transform`\n",
      "      url: str\n",
      "      visible: bool\n",
      "      xdata: 1D array\n",
      "      ydata: 1D array\n",
      "      zorder: float\n",
      "    \n",
      "    Notes\n",
      "    -----\n",
      "    The axis is drawn as a unit, so the effective zorder for drawing the\n",
      "    grid is determined by the zorder of each axis, not by the zorder of the\n",
      "    `.Line2D` objects comprising the grid.  Therefore, to set grid zorder,\n",
      "    use `.set_axisbelow` or, for more control, call the\n",
      "    `~matplotlib.axis.Axis.set_zorder` method of each axis.\n",
      "\n"
     ]
    }
   ],
   "source": [
    "help(plt.grid)"
   ]
  },
  {
   "cell_type": "markdown",
   "metadata": {
    "id": "90ED878AF17A4B928444D92CE9AAD556",
    "jupyter": {},
    "mdEditEnable": false,
    "slideshow": {
     "slide_type": "slide"
    },
    "tags": []
   },
   "source": [
    "### 函数`axhline()` ——绘制平行于x轴的水平参考线"
   ]
  },
  {
   "cell_type": "markdown",
   "metadata": {
    "id": "F76A9D3711A5444E842562BA820A3A27",
    "jupyter": {},
    "mdEditEnable": false,
    "slideshow": {
     "slide_type": "slide"
    },
    "tags": []
   },
   "source": [
    "- 函数功能：绘制平行于$x$轴的水平参考线\n",
    "- 调用方法：`plt.axhline(y=0.0,c='r',ls='--',lw=2)`\n",
    "- 参数说明\n",
    "    * `y`: 水平参考线的出发点\n",
    "    * `c`: 参考线的线条颜色\n",
    "    * `ls`: 参考线的线条风格\n",
    "    * `lw`: 参考线的线条宽度\n",
    "    * 上面的函数功能一样可以用到`axvline`上"
   ]
  },
  {
   "cell_type": "code",
   "execution_count": 14,
   "metadata": {
    "id": "D8411D7EA1F04486956C546FBDDB23D2",
    "jupyter": {},
    "scrolled": false,
    "slideshow": {
     "slide_type": "slide"
    },
    "tags": []
   },
   "outputs": [
    {
     "data": {
      "image/png": "[encoded data removed]",
      "text/plain": [
       "<matplotlib.figure.Figure at 0x1164162b0>"
      ]
     },
     "metadata": {
      "needs_background": "light"
     },
     "output_type": "display_data"
    }
   ],
   "source": [
    "x = np.linspace(0.05,10,100)\n",
    "y = np.random.rand(100)\n",
    "plt.scatter(x,y,c= 'b',label='scatter figure')\n",
    "plt.legend()\n",
    "plt.xlim(0.05,10)\n",
    "plt.ylim(0,1)\n",
    "plt.xlabel('My x-axis')\n",
    "plt.ylabel('My y-axis')\n",
    "plt.axhline(y=0.5,c='r',ls='--',lw=2)  # 增加水平线\n",
    "plt.axvline(x=5,c='g',ls='--',lw=2)    # 增加垂直线\n",
    "\n",
    "\n",
    "\n",
    "# plt.plot([0,10],[1,0],lw = 2,c = 'g')\n",
    "# plt.plot([2,8],[0.8,0.2],lw = 2,c = 'g')\n",
    "\n",
    "\n",
    "plt.savefig('../images/python_basic/vline.svg',bbox_inches = 'tight')"
   ]
  },
  {
   "cell_type": "markdown",
   "metadata": {
    "id": "07455B0F581347EF9CFAF6DD5708ACC5",
    "jupyter": {},
    "mdEditEnable": false,
    "slideshow": {
     "slide_type": "slide"
    },
    "tags": []
   },
   "source": [
    "### 函数`axvspan()` ——绘制垂直于x轴的参考区域"
   ]
  },
  {
   "cell_type": "markdown",
   "metadata": {
    "id": "57575E0059404C0C831137E3915A73CE",
    "jupyter": {},
    "mdEditEnable": false,
    "slideshow": {
     "slide_type": "slide"
    },
    "tags": []
   },
   "source": [
    "- 函数功能：绘制垂直于$x$轴的参考区域\n",
    "- 调用方法：`plt.axvspan(xmin=1.0,xmax=2.0,facecolor='y',alpha=0.3)`\n",
    "- 参数说明\n",
    "    * `xmin`: 参考区域的起始位置\n",
    "    * `xmax`: 参考区域的终止位置\n",
    "    * `facecolor`: 参考区域的填充颜色\n",
    "    * `alpha`: 参考区域的颜色透明度\n",
    "    * 上面的函数功能一样可以用到`axhspan()`上"
   ]
  },
  {
   "cell_type": "code",
   "execution_count": 15,
   "metadata": {
    "id": "B9D372C4ED694FF0954E93692388B25C",
    "jupyter": {},
    "scrolled": false,
    "slideshow": {
     "slide_type": "slide"
    },
    "tags": []
   },
   "outputs": [
    {
     "data": {
      "image/png": "[encoded data removed]",
      "text/plain": [
       "<matplotlib.figure.Figure at 0x1163ffc50>"
      ]
     },
     "metadata": {
      "needs_background": "light"
     },
     "output_type": "display_data"
    }
   ],
   "source": [
    "x = np.linspace(0.05,10,100)\n",
    "y = np.random.rand(100)\n",
    "plt.scatter(x,y,c= 'b',label='scatter figure')\n",
    "plt.legend()\n",
    "plt.xlim(0.05,10)\n",
    "plt.ylim(0,1)\n",
    "plt.xlabel('My x-axis')\n",
    "plt.ylabel('My y-axis')\n",
    "plt.axhspan(ymin=0.4,ymax=0.6,facecolor='r',alpha=.1)  # 增加水平区域\n",
    "plt.axvspan(xmin=4,xmax=6,facecolor='y',alpha=0.1)      # 增加垂直区域\n",
    "\n",
    "plt.savefig('../images/python_basic/vspan.svg',bbox_inches = 'tight')"
   ]
  },
  {
   "cell_type": "markdown",
   "metadata": {
    "id": "BDEA7B68E9DB4AB3939CD155C1A8784C",
    "jupyter": {},
    "mdEditEnable": false,
    "slideshow": {
     "slide_type": "slide"
    },
    "tags": []
   },
   "source": [
    "### 函数`annotate()` ——添加图形内容细节的指向型注释文本"
   ]
  },
  {
   "cell_type": "markdown",
   "metadata": {
    "id": "F04CC5E9730448718918EBD3108791F6",
    "jupyter": {},
    "mdEditEnable": false,
    "slideshow": {
     "slide_type": "slide"
    },
    "tags": []
   },
   "source": [
    "- 函数功能：添加图形内容细节的指向型注释文本\n",
    "- 调用方法：`plt.annotate(string,y=(x,y),xytext=(x_text,y_text),weight = 'bold',color = 'b',arrowprops=dict(arrowstyle='->',connectionstyle='arc3',color = 'b'))`\n",
    "- 参数说明\n",
    "    * `string`: 图形内容的注释文本\n",
    "    * `xy`: 被注释图形的内容的位置坐标\n",
    "    * `xytext`: 注释文本的位置坐标\n",
    "    * `weight`: 注释文本的粗细风格\n",
    "    * `color`: 注释文本的字体颜色\n",
    "    * `arrowprops`: 注释文本的属性字典"
   ]
  },
  {
   "cell_type": "code",
   "execution_count": 16,
   "metadata": {
    "id": "3D5B99BCE2274C7C98EAC0C831450B10",
    "jupyter": {},
    "scrolled": false,
    "slideshow": {
     "slide_type": "slide"
    },
    "tags": []
   },
   "outputs": [
    {
     "data": {
      "image/png": "[encoded data removed]",
      "text/plain": [
       "<matplotlib.figure.Figure at 0x116a63550>"
      ]
     },
     "metadata": {
      "needs_background": "light"
     },
     "output_type": "display_data"
    }
   ],
   "source": [
    "x = np.linspace(0.05,10,100)\n",
    "y = np.sin(x)\n",
    "plt.plot(x,y,c= 'b',label='scatter figure')\n",
    "plt.legend()\n",
    "plt.annotate('Minimum',\n",
    "            xy = (3*np.pi/2,-1), # 箭头的头部\n",
    "            xytext=(3*np.pi/2-0.5,-0.5), # 箭头的尾部\n",
    "            #weight = 'bold', # 粗细\n",
    "            #color= 'b', # 颜色\n",
    "            arrowprops = dict(arrowstyle='->',connectionstyle='arc3',color = 'b')\n",
    "            )\n",
    "\n",
    "\n",
    "plt.savefig('../images/python_basic/annotate.svg',bbox_inches = 'tight')\n",
    "\n"
   ]
  },
  {
   "cell_type": "markdown",
   "metadata": {
    "id": "8B957381A0EA4AB39C95618999BB751B",
    "jupyter": {},
    "mdEditEnable": false,
    "slideshow": {
     "slide_type": "slide"
    },
    "tags": []
   },
   "source": [
    "### 函数`text()` ——添加图形内容细节的无指向型注释文本"
   ]
  },
  {
   "cell_type": "markdown",
   "metadata": {
    "id": "CBAD2F29C63E49CB8ED1B313BB01B846",
    "jupyter": {},
    "mdEditEnable": false,
    "slideshow": {
     "slide_type": "slide"
    },
    "tags": []
   },
   "source": [
    "- 函数功能：添加图形内容细节的指向型注释文本\n",
    "- 调用方法：`plt.text(x,y,string,weight='bold',color='b')`\n",
    "- 参数说明\n",
    "    * `x`: 注释文本所在位置横坐标\n",
    "    * `y`: 注释文本所在位置纵坐标\n",
    "    * `string`: 注释文本内容\n",
    "    * `weight`: 注释文本的粗细风格\n",
    "    * `color`: 注释文本的字体颜色"
   ]
  },
  {
   "cell_type": "code",
   "execution_count": 17,
   "metadata": {
    "id": "A8C608A4D29142CDA7F6501958B3CFEB",
    "jupyter": {},
    "scrolled": false,
    "slideshow": {
     "slide_type": "slide"
    },
    "tags": []
   },
   "outputs": [
    {
     "data": {
      "image/png": "[encoded data removed]",
      "text/plain": [
       "<matplotlib.figure.Figure at 0x116955358>"
      ]
     },
     "metadata": {
      "needs_background": "light"
     },
     "output_type": "display_data"
    }
   ],
   "source": [
    "x = np.linspace(0.05,10,100)\n",
    "y = np.sin(x)\n",
    "plt.plot(x,y,c= 'b',label='scatter figure')\n",
    "plt.legend()\n",
    "plt.text(3.10,0.09,'sin(x)', weight = 'bold',color= 'green')\n",
    "\n",
    "plt.savefig('../images/python_basic/text.svg',bbox_inches = 'tight')\n"
   ]
  },
  {
   "cell_type": "markdown",
   "metadata": {
    "id": "EE34E23CC80240B38B6E44CDBAFA7E23",
    "jupyter": {},
    "mdEditEnable": false,
    "slideshow": {
     "slide_type": "slide"
    },
    "tags": []
   },
   "source": [
    "### 函数`title()` ——添加图形内容的标题"
   ]
  },
  {
   "cell_type": "markdown",
   "metadata": {
    "id": "2FD6E8BB7B6E4CF0826EB05E939D5A1F",
    "jupyter": {},
    "mdEditEnable": false,
    "slideshow": {
     "slide_type": "slide"
    },
    "tags": []
   },
   "source": [
    "- 函数功能：添加图形内容细节的指向型注释文本\n",
    "- 调用方法：`plt.title(string)`\n",
    "- 参数说明\n",
    "    * `string`: 标题内容"
   ]
  },
  {
   "cell_type": "code",
   "execution_count": 18,
   "metadata": {
    "id": "9B47EAA56CF240B580F38378C8B65FC3",
    "jupyter": {},
    "scrolled": false,
    "slideshow": {
     "slide_type": "slide"
    },
    "tags": []
   },
   "outputs": [
    {
     "data": {
      "image/png": "[encoded data removed]",
      "text/plain": [
       "<matplotlib.figure.Figure at 0x116c769b0>"
      ]
     },
     "metadata": {
      "needs_background": "light"
     },
     "output_type": "display_data"
    }
   ],
   "source": [
    "x = np.linspace(0.05,10,100)\n",
    "y = np.sin(x)\n",
    "plt.plot(x,y,c= 'b',label='scatter figure')\n",
    "plt.legend()\n",
    "plt.text(3.10,0.09,'sin(x)', weight = 'bold',color= 'b')\n",
    "plt.title('My first plot')\n",
    "\n",
    "plt.savefig('../images/python_basic/title.svg',bbox_inches = 'tight')\n"
   ]
  },
  {
   "cell_type": "markdown",
   "metadata": {
    "id": "7A8C96C5FB2B4B84A02EE1E30EDDDFBC",
    "jupyter": {},
    "mdEditEnable": false,
    "slideshow": {
     "slide_type": "slide"
    },
    "tags": []
   },
   "source": [
    "### 函数`legend()` ——图例"
   ]
  },
  {
   "cell_type": "markdown",
   "metadata": {
    "id": "D21143DB44724AB589159EB15BE42FAF",
    "jupyter": {},
    "mdEditEnable": false,
    "slideshow": {
     "slide_type": "slide"
    },
    "tags": []
   },
   "source": [
    "- 函数功能：添加图形内容细节的指向型注释文本\n",
    "- 调用方法：`plt.legend(loc='lower left')`\n",
    "- 参数说明\n",
    "    * `loc`: 图例在图中的位置"
   ]
  },
  {
   "cell_type": "code",
   "execution_count": 20,
   "metadata": {
    "id": "A22EEDB19E5745F58C7E9E9553D25032",
    "jupyter": {},
    "scrolled": false,
    "slideshow": {
     "slide_type": "slide"
    },
    "tags": []
   },
   "outputs": [
    {
     "data": {
      "text/plain": [
       "<matplotlib.legend.Legend at 0x7f544ceaaac8>"
      ]
     },
     "execution_count": 20,
     "metadata": {},
     "output_type": "execute_result"
    },
    {
     "data": {
      "text/html": [
       "<img src=\"https://cdn.kesci.com/rt_upload/A22EEDB19E5745F58C7E9E9553D25032/q7ylwhcj2i.png\">"
      ],
      "text/plain": [
       "<Figure size 432x288 with 1 Axes>"
      ]
     },
     "metadata": {
      "needs_background": "light"
     },
     "output_type": "display_data"
    }
   ],
   "source": [
    "x = np.linspace(0.05,10,100)\n",
    "y = np.sin(x)\n",
    "\n",
    "\n",
    "y1 = np.cos(x)\n",
    "\n",
    "plt.plot(x,y,c= 'b',label='sin')\n",
    "plt.plot(x,y1,c= 'r',label='cos')\n",
    "plt.text(3.10,0.09,'sin(x)', weight = 'bold',color= 'b')\n",
    "plt.title('My first plot')\n",
    "plt.legend()"
   ]
  },
  {
   "cell_type": "markdown",
   "metadata": {
    "id": "901F16E097EE4DB0B90B8E3CD91B6C22",
    "jupyter": {},
    "mdEditEnable": false,
    "slideshow": {
     "slide_type": "slide"
    },
    "tags": []
   },
   "source": [
    "## 绘图函数的组合应用"
   ]
  },
  {
   "cell_type": "code",
   "execution_count": 19,
   "metadata": {
    "id": "377E44354C9F48C2893BC43A08F082CD",
    "jupyter": {},
    "scrolled": false,
    "slideshow": {
     "slide_type": "slide"
    },
    "tags": []
   },
   "outputs": [
    {
     "data": {
      "image/png": "[encoded data removed]",
      "text/plain": [
       "<matplotlib.figure.Figure at 0x1167a7748>"
      ]
     },
     "metadata": {
      "needs_background": "light"
     },
     "output_type": "display_data"
    }
   ],
   "source": [
    "import matplotlib.pyplot as plt\n",
    "import numpy as np\n",
    "from matplotlib import cm as cm\n",
    "\n",
    "# plt.figure(figsize=(10,5))\n",
    "# define data\n",
    "x = np.linspace(0.5,3.5,100)\n",
    "y = np.sin(x)\n",
    "y1 = np.random.randn(100)\n",
    "\n",
    "# scatter figure\n",
    "plt.scatter(x,y1,c='0.25',label='scatter figure')\n",
    "\n",
    "# plot figure\n",
    "plt.plot(x,y,ls='--',lw=2,label='plot figure')\n",
    "\n",
    "# set x,y axis limit\n",
    "plt.xlim(0,4)\n",
    "plt.ylim(-3,3)\n",
    "\n",
    "# set axis labels\n",
    "plt.ylabel('y_axis')\n",
    "plt.xlabel('x_axis')\n",
    "\n",
    "# set x,y axis grid\n",
    "plt.grid(ls=':',lw=2)\n",
    "\n",
    "# add a horizontal line across the axis\n",
    "plt.axhline(y=0,c='r',ls='--',lw=2)\n",
    "\n",
    "# add a vertical span across the axis\n",
    "plt.axvspan(xmin=1.0,xmax=2,facecolor = 'y',alpha = 0.3)\n",
    "\n",
    "# set annotating info\n",
    "plt.annotate('maximum',xy=(np.pi/2,1),xytext=(np.pi/2+0.15,1.5),weight='bold',color='r',\n",
    "             arrowprops = dict(arrowstyle='->',connectionstyle='arc3',color = 'r'))\n",
    "\n",
    "plt.annotate('spines',xy=(0.75,-3),xytext=(0.35,-2.25),weight='bold',color='b',\n",
    "             arrowprops = dict(arrowstyle='->',connectionstyle='arc3',color = 'b'))\n",
    "\n",
    "plt.annotate('',xy=(0,-2.78),xytext=(0.4,-2.32),weight='bold',color='b',\n",
    "             arrowprops = dict(arrowstyle='->',connectionstyle='arc3',color = 'b'))\n",
    "\n",
    "plt.annotate('',xy=(3.5,-2.98),xytext=(3.6,-2.70),weight='bold',color='b',\n",
    "             arrowprops = dict(arrowstyle='->',connectionstyle='arc3',color = 'b'))\n",
    "\n",
    "# set text info\n",
    "plt.text(3.6,-2.70,'| is tickline',weight = 'bold',color = 'b')\n",
    "plt.text(3.6,-2.95,'3.5 is ticklabel',weight = 'bold',color = 'b')\n",
    "\n",
    "# set title\n",
    "plt.title('structure of matplotlib')\n",
    "\n",
    "# set legend\n",
    "plt.legend()\n",
    "\n",
    "\n",
    "plt.savefig('../images/python_basic/demo.svg',bbox_inches = 'tight')\n",
    "\n",
    "\n",
    "\n"
   ]
  },
  {
   "cell_type": "markdown",
   "metadata": {
    "id": "F34A4706CBBD421A83C0AA22437EA13A",
    "jupyter": {},
    "mdEditEnable": false,
    "slideshow": {
     "slide_type": "slide"
    },
    "tags": []
   },
   "source": [
    "# 使用统计函数绘制简单图形"
   ]
  },
  {
   "cell_type": "markdown",
   "metadata": {
    "id": "2BBE8CC1125240F283C9962A7217AD6A",
    "jupyter": {},
    "mdEditEnable": false,
    "slideshow": {
     "slide_type": "slide"
    },
    "tags": []
   },
   "source": [
    "在上一部分中，我们给大家介绍了属于统计图形范畴的折线图和散点图，接下来会详细讲解一些大家比较熟悉却又经常混淆的其他几个统计图形，掌握这些统计图形可以让我们对可视化有一个更加深入地了解，并正确使用。"
   ]
  },
  {
   "cell_type": "markdown",
   "metadata": {
    "id": "05D052B110DA46E5AAA56E266C19DB58",
    "jupyter": {},
    "mdEditEnable": false,
    "slideshow": {
     "slide_type": "slide"
    },
    "tags": []
   },
   "source": [
    "和前面一样，我们还是通过**函数功能、调用语法、参数说明和调用展示**四个方面为大家讲解这些函数，期望能帮助大家建立对于python数据可视化的直观认识，培养大家使用matplotlib进行进一步学习的兴趣和信心。"
   ]
  },
  {
   "cell_type": "markdown",
   "metadata": {
    "id": "409E2B57B91440959E6ADF8E9561B22D",
    "jupyter": {},
    "mdEditEnable": false,
    "slideshow": {
     "slide_type": "slide"
    },
    "tags": []
   },
   "source": [
    "## 函数`bar()`——用于绘制柱状图"
   ]
  },
  {
   "cell_type": "markdown",
   "metadata": {
    "id": "C19850E3B3AA4EA894B65BAAC923617B",
    "jupyter": {},
    "mdEditEnable": false,
    "slideshow": {
     "slide_type": "slide"
    },
    "tags": []
   },
   "source": [
    "- 函数功能：在$x$轴上绘制定性数据的分布特征。\n",
    "- 调用方法：`plt.bar(x,y)`\n",
    "- 参数说明\n",
    "    * `x`: 标示在$x$轴上的定性数据的分布特征\n",
    "    * `y`: 每种定性数据类别的数量"
   ]
  },
  {
   "cell_type": "code",
   "execution_count": 28,
   "metadata": {
    "id": "6E29D5215856491592A51FA33F17CC9F",
    "jupyter": {},
    "scrolled": false,
    "slideshow": {
     "slide_type": "slide"
    },
    "tags": []
   },
   "outputs": [
    {
     "data": {
      "text/html": [
       "<img src=\"https://cdn.kesci.com/rt_upload/6E29D5215856491592A51FA33F17CC9F/q7ymqmk5k6.png\">"
      ],
      "text/plain": [
       "<Figure size 432x288 with 1 Axes>"
      ]
     },
     "metadata": {
      "needs_background": "light"
     },
     "output_type": "display_data"
    }
   ],
   "source": [
    "import matplotlib.pyplot as plt\n",
    "\n",
    "# some simple data\n",
    "#plt.figure(figsize=(10,5))\n",
    "\n",
    "x = [1,2,3,4,5,6,7,8]\n",
    "y = [3,1,4,5,8,9,7,2]\n",
    "\n",
    "plt.bar(x,y,align='center',color='c',\n",
    "                        tick_label = ['AAAAAA','BBBBBBB','CCCCC','DDDDDD','EEEEE','FFFFF','GGGGGGGG','HHHHH'])\n",
    "\n",
    "plt.xlabel('Container No.')\n",
    "plt.ylabel('Weight (kg)')\n",
    "plt.grid(axis  = 'y')"
   ]
  },
  {
   "cell_type": "markdown",
   "metadata": {
    "id": "634464ADD2404EF1971BF7902FF30727",
    "jupyter": {},
    "mdEditEnable": false,
    "slideshow": {
     "slide_type": "slide"
    },
    "tags": []
   },
   "source": [
    "## 函数`barh()`——用于绘制条形图"
   ]
  },
  {
   "cell_type": "markdown",
   "metadata": {
    "id": "9CD097E75498403C8769529EF79E636F",
    "jupyter": {},
    "mdEditEnable": false,
    "slideshow": {
     "slide_type": "slide"
    },
    "tags": []
   },
   "source": [
    "- 函数功能：在$y$轴上绘制定性数据的分布特征。\n",
    "- 调用方法：`plt.barh(x,y)`\n",
    "- 参数说明\n",
    "    * `x`: 标示在$y$轴上的定性数据的分布特征\n",
    "    * `y`: 每种定性数据类别的数量"
   ]
  },
  {
   "cell_type": "code",
   "execution_count": 47,
   "metadata": {
    "id": "0DBE0247DE774F1C8A619C232B857AF4",
    "jupyter": {},
    "scrolled": false,
    "slideshow": {
     "slide_type": "slide"
    },
    "tags": []
   },
   "outputs": [
    {
     "data": {
      "text/plain": [
       "Text(0.5, 0, 'Weight (kg)')"
      ]
     },
     "execution_count": 47,
     "metadata": {},
     "output_type": "execute_result"
    },
    {
     "data": {
      "text/html": [
       "<img src=\"https://cdn.kesci.com/rt_upload/0DBE0247DE774F1C8A619C232B857AF4/q70et91vwg.png\">"
      ],
      "text/plain": [
       "<Figure size 432x288 with 1 Axes>"
      ]
     },
     "metadata": {
      "needs_background": "light"
     },
     "output_type": "display_data"
    }
   ],
   "source": [
    "import matplotlib.pyplot as plt\n",
    "\n",
    "# some simple data\n",
    "x = [1,2,3,4,5,6,7,8]\n",
    "y = [3,1,4,5,8,9,7,2]\n",
    "\n",
    "plt.barh(x,y,align='center',color='c',tick_label = ['AAAA','BBBBBBB','CCCCC','DDDDDD','EEEEE','FFFFF','GGGGGGGG','HHHHH'])\n",
    "\n",
    "plt.ylabel('Container No.')\n",
    "plt.xlabel('Weight (kg)')"
   ]
  },
  {
   "cell_type": "code",
   "execution_count": 41,
   "metadata": {
    "id": "50422B386055442A8EE2E9F07DE84D7E",
    "jupyter": {},
    "scrolled": false,
    "slideshow": {
     "slide_type": "slide"
    },
    "tags": []
   },
   "outputs": [
    {
     "data": {
      "text/plain": [
       "Text(0, 0.5, '现存确诊数量')"
      ]
     },
     "execution_count": 41,
     "metadata": {},
     "output_type": "execute_result"
    },
    {
     "data": {
      "text/html": [
       "<img src=\"https://cdn.kesci.com/rt_upload/50422B386055442A8EE2E9F07DE84D7E/q7bcnp6r4s.png\">"
      ],
      "text/plain": [
       "<Figure size 432x288 with 1 Axes>"
      ]
     },
     "metadata": {
      "needs_background": "light"
     },
     "output_type": "display_data"
    }
   ],
   "source": [
    "data = [7212,5020,467,106,95,84,69,67]\n",
    "Country = ['韩国','伊朗','日本','马来西亚','巴林','新加坡','科威特','阿联酋']\n",
    "plt.bar(range(len(data)),data,tick_label =Country )\n",
    "plt.xlabel('国家')\n",
    "plt.ylabel('现存确诊数量')"
   ]
  },
  {
   "cell_type": "markdown",
   "metadata": {
    "id": "8AF83627828742118C8C7BB4435B228C",
    "jupyter": {},
    "mdEditEnable": false,
    "scrolled": false,
    "slideshow": {
     "slide_type": "slide"
    },
    "tags": []
   },
   "source": [
    "课堂作业：\n",
    "\n",
    "绘制疫情确诊数据柱状图，示例数据如下：\n",
    "\n",
    "\n",
    "![Image Name](https://cdn.kesci.com/upload/image/q6zkf7ppgs.png?imageView2/0/w/960/h/960)\n",
    "\n",
    "\n",
    "\n",
    "\n"
   ]
  },
  {
   "cell_type": "markdown",
   "metadata": {
    "id": "D657030DC06D4B64BFEF7785D74F1BF8",
    "jupyter": {},
    "mdEditEnable": false,
    "slideshow": {
     "slide_type": "slide"
    },
    "tags": []
   },
   "source": [
    "## 函数`hist()`——用于绘制直方图"
   ]
  },
  {
   "cell_type": "markdown",
   "metadata": {
    "id": "0D5B39E894094A1288BC7075630F4578",
    "jupyter": {},
    "mdEditEnable": false,
    "slideshow": {
     "slide_type": "slide"
    },
    "tags": []
   },
   "source": [
    "- 函数功能：在$x$轴上绘制定量数据的分布特征。\n",
    "- 调用方法：`plt.hist(x)`\n",
    "- 参数说明\n",
    "    * `x`: 在$x$轴上绘制箱体定量数据的输入值"
   ]
  },
  {
   "cell_type": "code",
   "execution_count": 60,
   "metadata": {
    "id": "7DDE254DF5FA44B9B715E1A63E5D7FE4",
    "jupyter": {},
    "scrolled": false,
    "slideshow": {
     "slide_type": "slide"
    },
    "tags": []
   },
   "outputs": [
    {
     "data": {
      "text/html": [
       "<img src=\"https://cdn.kesci.com/rt_upload/7DDE254DF5FA44B9B715E1A63E5D7FE4/q70fsn5898.png\">"
      ],
      "text/plain": [
       "<Figure size 432x288 with 1 Axes>"
      ]
     },
     "metadata": {
      "needs_background": "light"
     },
     "output_type": "display_data"
    }
   ],
   "source": [
    "import numpy as np\n",
    "import matplotlib.pyplot as plt\n",
    "\n",
    "boxWeight = np.random.randint(0,10,100)\n",
    "x = boxWeight\n",
    "bins = range(0,10,1)\n",
    "\n",
    "plt.hist(x,\n",
    "        bins = bins,\n",
    "        color = 'c',\n",
    "        histtype = 'bar',\n",
    "        rwidth=0.8,\n",
    "        alpha=0.3)\n",
    "\n",
    "plt.xlabel('Weight of the box (kg)')\n",
    "plt.ylabel('Selling Number')\n",
    "\n",
    "##plt.savefig('bar.pdf')"
   ]
  },
  {
   "cell_type": "markdown",
   "metadata": {
    "id": "8EC46DC6CB324F1A8C43B1FF220CB820",
    "jupyter": {},
    "mdEditEnable": false,
    "slideshow": {
     "slide_type": "slide"
    },
    "tags": []
   },
   "source": [
    "## 函数`pie()`——用于绘制饼状图"
   ]
  },
  {
   "cell_type": "markdown",
   "metadata": {
    "id": "1FA3F8C1924D4BB1A79E9CA5D292F1E2",
    "jupyter": {},
    "mdEditEnable": false,
    "slideshow": {
     "slide_type": "slide"
    },
    "tags": []
   },
   "source": [
    "- 函数功能：绘制定性数据的不同类型的百分比\n",
    "- 调用方法：`plt.pie(x)`\n",
    "- 参数说明\n",
    "    * `x`: 定性数据的不同类型的百分比"
   ]
  },
  {
   "cell_type": "code",
   "execution_count": 43,
   "metadata": {
    "collapsed": true,
    "id": "159B2245C94D4C1B8901BDEB348B9A65",
    "jupyter": {},
    "scrolled": true,
    "slideshow": {
     "slide_type": "slide"
    },
    "tags": []
   },
   "outputs": [
    {
     "name": "stdout",
     "output_type": "stream",
     "text": [
      "Help on function pie in module matplotlib.pyplot:\n",
      "\n",
      "pie(x, explode=None, labels=None, colors=None, autopct=None, pctdistance=0.6, shadow=False, labeldistance=1.1, startangle=None, radius=None, counterclock=True, wedgeprops=None, textprops=None, center=(0, 0), frame=False, rotatelabels=False, *, data=None)\n",
      "    Plot a pie chart.\n",
      "    \n",
      "    Make a pie chart of array *x*.  The fractional area of each wedge is\n",
      "    given by ``x/sum(x)``.  If ``sum(x) < 1``, then the values of *x* give\n",
      "    the fractional area directly and the array will not be normalized. The\n",
      "    resulting pie will have an empty wedge of size ``1 - sum(x)``.\n",
      "    \n",
      "    The wedges are plotted counterclockwise, by default starting from the\n",
      "    x-axis.\n",
      "    \n",
      "    Parameters\n",
      "    ----------\n",
      "    x : array-like\n",
      "        The wedge sizes.\n",
      "    \n",
      "    explode : array-like, optional, default: None\n",
      "        If not *None*, is a ``len(x)`` array which specifies the fraction\n",
      "        of the radius with which to offset each wedge.\n",
      "    \n",
      "    labels : list, optional, default: None\n",
      "        A sequence of strings providing the labels for each wedge\n",
      "    \n",
      "    colors : array-like, optional, default: None\n",
      "        A sequence of matplotlib color args through which the pie chart\n",
      "        will cycle.  If *None*, will use the colors in the currently\n",
      "        active cycle.\n",
      "    \n",
      "    autopct : None (default), string, or function, optional\n",
      "        If not *None*, is a string or function used to label the wedges\n",
      "        with their numeric value.  The label will be placed inside the\n",
      "        wedge.  If it is a format string, the label will be ``fmt%pct``.\n",
      "        If it is a function, it will be called.\n",
      "    \n",
      "    pctdistance : float, optional, default: 0.6\n",
      "        The ratio between the center of each pie slice and the start of\n",
      "        the text generated by *autopct*.  Ignored if *autopct* is *None*.\n",
      "    \n",
      "    shadow : bool, optional, default: False\n",
      "        Draw a shadow beneath the pie.\n",
      "    \n",
      "    labeldistance : float or None, optional, default: 1.1\n",
      "        The radial distance at which the pie labels are drawn.\n",
      "        If set to ``None``, label are not drawn, but are stored for use in\n",
      "        ``legend()``\n",
      "    \n",
      "    startangle : float, optional, default: None\n",
      "        If not *None*, rotates the start of the pie chart by *angle*\n",
      "        degrees counterclockwise from the x-axis.\n",
      "    \n",
      "    radius : float, optional, default: None\n",
      "        The radius of the pie, if *radius* is *None* it will be set to 1.\n",
      "    \n",
      "    counterclock : bool, optional, default: True\n",
      "        Specify fractions direction, clockwise or counterclockwise.\n",
      "    \n",
      "    wedgeprops : dict, optional, default: None\n",
      "        Dict of arguments passed to the wedge objects making the pie.\n",
      "        For example, you can pass in ``wedgeprops = {'linewidth': 3}``\n",
      "        to set the width of the wedge border lines equal to 3.\n",
      "        For more details, look at the doc/arguments of the wedge object.\n",
      "        By default ``clip_on=False``.\n",
      "    \n",
      "    textprops : dict, optional, default: None\n",
      "        Dict of arguments to pass to the text objects.\n",
      "    \n",
      "    center :  list of float, optional, default: (0, 0)\n",
      "        Center position of the chart. Takes value (0, 0) or is a sequence\n",
      "        of 2 scalars.\n",
      "    \n",
      "    frame : bool, optional, default: False\n",
      "        Plot axes frame with the chart if true.\n",
      "    \n",
      "    rotatelabels : bool, optional, default: False\n",
      "        Rotate each label to the angle of the corresponding slice if true.\n",
      "    \n",
      "    Returns\n",
      "    -------\n",
      "    patches : list\n",
      "        A sequence of :class:`matplotlib.patches.Wedge` instances\n",
      "    \n",
      "    texts : list\n",
      "        A list of the label :class:`matplotlib.text.Text` instances.\n",
      "    \n",
      "    autotexts : list\n",
      "        A list of :class:`~matplotlib.text.Text` instances for the numeric\n",
      "        labels. This will only be returned if the parameter *autopct* is\n",
      "        not *None*.\n",
      "    \n",
      "    Notes\n",
      "    -----\n",
      "    The pie chart will probably look best if the figure and axes are\n",
      "    square, or the Axes aspect is equal.\n",
      "    This method sets the aspect ratio of the axis to \"equal\".\n",
      "    The axes aspect ratio can be controlled with `Axes.set_aspect`.\n",
      "    \n",
      "    .. note::\n",
      "        In addition to the above described arguments, this function can take a\n",
      "        **data** keyword argument. If such a **data** argument is given, the\n",
      "        following arguments are replaced by **data[<arg>]**:\n",
      "    \n",
      "        * All arguments with the following names: 'colors', 'explode', 'labels', 'x'.\n",
      "    \n",
      "        Objects passed as **data** must support item access (``data[<arg>]``) and\n",
      "        membership test (``<arg> in data``).\n",
      "\n"
     ]
    }
   ],
   "source": [
    "help(plt.pie)"
   ]
  },
  {
   "cell_type": "code",
   "execution_count": 42,
   "metadata": {
    "id": "39D760BA7DF34895A030DBE39FE507D5",
    "jupyter": {},
    "scrolled": false,
    "slideshow": {
     "slide_type": "slide"
    },
    "tags": []
   },
   "outputs": [
    {
     "data": {
      "text/html": [
       "<img src=\"https://cdn.kesci.com/rt_upload/39D760BA7DF34895A030DBE39FE507D5/q7bctbx6c0.png\">"
      ],
      "text/plain": [
       "<Figure size 720x432 with 1 Axes>"
      ]
     },
     "metadata": {},
     "output_type": "display_data"
    }
   ],
   "source": [
    "import matplotlib.pyplot as plt\n",
    "\n",
    "\n",
    "plt.figure(figsize=(10,6))\n",
    "colors = [\"#e41a1c\",\"#377eb8\",\"#4daf4a\",\"#984ea3\"]\n",
    "soldNums = [0.05,0.45,0.15,0.35]\n",
    "kinds = ['case1','case2','case3','case4']\n",
    "\n",
    "plt.pie(soldNums,\n",
    "       labels=kinds,\n",
    "       autopct=\"%3.1f%%\",\n",
    "       startangle=0,\n",
    "       colors=colors);"
   ]
  },
  {
   "cell_type": "code",
   "execution_count": 46,
   "metadata": {
    "id": "4D95355EA58A4CA4823ADADA7F1A6D76",
    "jupyter": {},
    "scrolled": false,
    "slideshow": {
     "slide_type": "slide"
    },
    "tags": []
   },
   "outputs": [
    {
     "data": {
      "text/html": [
       "<img src=\"https://cdn.kesci.com/rt_upload/4D95355EA58A4CA4823ADADA7F1A6D76/q7bd1jf1sz.png\">"
      ],
      "text/plain": [
       "<Figure size 504x504 with 1 Axes>"
      ]
     },
     "metadata": {},
     "output_type": "display_data"
    }
   ],
   "source": [
    "plt.figure(figsize = (7,7));\n",
    "plt.pie(data,labels=Country);"
   ]
  },
  {
   "cell_type": "markdown",
   "metadata": {
    "id": "05666157EBEF4CDD86E3CA608033C72C",
    "jupyter": {},
    "mdEditEnable": false,
    "scrolled": false,
    "slideshow": {
     "slide_type": "slide"
    },
    "tags": []
   },
   "source": [
    "课堂作业：\n",
    "\n",
    "尝试把上面一个练习题转换为饼状图？"
   ]
  },
  {
   "cell_type": "markdown",
   "metadata": {
    "id": "45B11E6E0D0247CD8111A96B401C97CB",
    "jupyter": {},
    "mdEditEnable": false,
    "slideshow": {
     "slide_type": "slide"
    },
    "tags": []
   },
   "source": [
    "## 函数`scatter()`——用于绘制气泡图"
   ]
  },
  {
   "cell_type": "markdown",
   "metadata": {
    "id": "3DA3645FDBB7458B8B49662AE758BA79",
    "jupyter": {},
    "mdEditEnable": false,
    "slideshow": {
     "slide_type": "slide"
    },
    "tags": []
   },
   "source": [
    "- 函数功能：二维数据借助气泡大小展示三维数据\n",
    "- 调用方法：`plt.scatter(x,y,s=size,c=color,cmap=cmap)`\n",
    "- 参数说明\n",
    "    * `x`: $x$轴上的数值\n",
    "    * `y`: $y$轴上的数值\n",
    "    * `s`: 标记的大小\n",
    "    * `c`: 标记的颜色\n",
    "    * `cmap`: 标记的颜色映射表"
   ]
  },
  {
   "cell_type": "code",
   "execution_count": 21,
   "metadata": {
    "id": "94CC6D59DF2740698F8F96221D202578",
    "jupyter": {},
    "scrolled": false,
    "slideshow": {
     "slide_type": "slide"
    },
    "tags": []
   },
   "outputs": [
    {
     "data": {
      "text/plain": [
       "<matplotlib.collections.PathCollection at 0x7feb632888d0>"
      ]
     },
     "execution_count": 21,
     "metadata": {},
     "output_type": "execute_result"
    },
    {
     "data": {
      "text/html": [
       "<img src=\"https://cdn.kesci.com/rt_upload/94CC6D59DF2740698F8F96221D202578/q52rvqk7p4.png\">"
      ],
      "text/plain": [
       "<Figure size 720x432 with 1 Axes>"
      ]
     },
     "metadata": {
      "needs_background": "light"
     },
     "output_type": "display_data"
    }
   ],
   "source": [
    "import matplotlib.pyplot as plt\n",
    "import matplotlib as mpl\n",
    "import numpy as np\n",
    "\n",
    "plt.figure(figsize=(10,6))\n",
    "\n",
    "a = np.random.randn(100)\n",
    "b = np.random.randn(100)\n",
    "\n",
    "plt.scatter(a,b,\n",
    "           s=np.power(10*a+20*b,2),\n",
    "           c = np.random.randn(100),\n",
    "           cmap=mpl.cm.RdYlBu,\n",
    "           marker='o')"
   ]
  },
  {
   "cell_type": "markdown",
   "metadata": {
    "id": "CBDB133E6D784BDB80C62ED63C6D58BB",
    "jupyter": {},
    "mdEditEnable": false,
    "slideshow": {
     "slide_type": "slide"
    },
    "tags": []
   },
   "source": [
    "## 函数`stem()`——用于绘制棉棒图"
   ]
  },
  {
   "cell_type": "markdown",
   "metadata": {
    "id": "92BFFB09A6984B998882BEE47E602126",
    "jupyter": {},
    "mdEditEnable": false,
    "slideshow": {
     "slide_type": "slide"
    },
    "tags": []
   },
   "source": [
    "- 函数功能：绘制离散的有序数据\n",
    "- 调用方法：`plt.stem(x,y)`\n",
    "- 参数说明\n",
    "    * `x`: 指定棉棒的$x$轴基线上的位置\n",
    "    * `y`: 指定棉棒的长度\n",
    "    * `linefmt`: 棉棒的样式\n",
    "    * `markerfmt`: 棉棒末端的样式\n",
    "    * `basefmt`: 基线的样式"
   ]
  },
  {
   "cell_type": "code",
   "execution_count": 22,
   "metadata": {
    "id": "6ECCAD2522D246849C7375FCD1F31AE5",
    "jupyter": {},
    "scrolled": false,
    "slideshow": {
     "slide_type": "slide"
    },
    "tags": []
   },
   "outputs": [
    {
     "name": "stderr",
     "output_type": "stream",
     "text": [
      "/opt/conda/lib/python3.6/site-packages/ipykernel_launcher.py:7: UserWarning: In Matplotlib 3.3 individual lines on a stem plot will be added as a LineCollection instead of individual lines. This significantly improves the performance of a stem plot. To remove this warning and switch to the new behaviour, set the \"use_line_collection\" keyword argument to True.\n",
      "  import sys\n"
     ]
    },
    {
     "data": {
      "text/plain": [
       "<StemContainer object of 3 artists>"
      ]
     },
     "execution_count": 22,
     "metadata": {},
     "output_type": "execute_result"
    },
    {
     "data": {
      "text/html": [
       "<img src=\"https://cdn.kesci.com/rt_upload/6ECCAD2522D246849C7375FCD1F31AE5/q52rvqlgic.png\">"
      ],
      "text/plain": [
       "<Figure size 432x288 with 1 Axes>"
      ]
     },
     "metadata": {
      "needs_background": "light"
     },
     "output_type": "display_data"
    }
   ],
   "source": [
    "import matplotlib.pyplot as plt\n",
    "import numpy as np\n",
    "\n",
    "x = np.linspace(0.5,2*np.pi,20)\n",
    "y = np.random.randn(20)\n",
    "\n",
    "plt.stem(x,y,linefmt = '-.', markerfmt = 'o', basefmt = '-')"
   ]
  },
  {
   "cell_type": "markdown",
   "metadata": {
    "id": "B73DF91E23D0428283838505D873AB53",
    "jupyter": {},
    "mdEditEnable": false,
    "slideshow": {
     "slide_type": "slide"
    },
    "tags": []
   },
   "source": [
    "## 函数`boxplot()`——用于绘制箱线图"
   ]
  },
  {
   "cell_type": "markdown",
   "metadata": {
    "id": "7EA838859EBE434582B964D66386DD76",
    "jupyter": {},
    "mdEditEnable": false,
    "slideshow": {
     "slide_type": "slide"
    },
    "tags": []
   },
   "source": [
    "- 函数功能：绘制箱线图\n",
    "- 调用方法：`plt.boxplot(x)`\n",
    "- 参数说明\n",
    "    * `x`: 箱线图的输入数据"
   ]
  },
  {
   "cell_type": "code",
   "execution_count": 23,
   "metadata": {
    "id": "BFE0B5B22BBE448DA52BA8CDA36C51F2",
    "jupyter": {},
    "scrolled": false,
    "slideshow": {
     "slide_type": "slide"
    },
    "tags": []
   },
   "outputs": [
    {
     "data": {
      "text/html": [
       "<img src=\"https://cdn.kesci.com/rt_upload/BFE0B5B22BBE448DA52BA8CDA36C51F2/q52rvqhis6.png\">"
      ],
      "text/plain": [
       "<Figure size 432x288 with 1 Axes>"
      ]
     },
     "metadata": {
      "needs_background": "light"
     },
     "output_type": "display_data"
    }
   ],
   "source": [
    "import matplotlib.pyplot as plt\n",
    "import numpy as np\n",
    "\n",
    "x = np.random.randn(1000)\n",
    "\n",
    "plt.boxplot(x);\n",
    "plt.xticks([1],[\"AlphaRM\"])\n",
    "plt.ylabel('Random Number')\n",
    "\n",
    "plt.grid(linestyle = '--',alpha = 0.3)"
   ]
  },
  {
   "cell_type": "markdown",
   "metadata": {
    "id": "04FA23B78CE34D5CB1AA2A7D3C1B64F1",
    "jupyter": {},
    "mdEditEnable": false,
    "slideshow": {
     "slide_type": "slide"
    },
    "tags": []
   },
   "source": [
    "## 函数`errorbar()`——用于绘制误差棉棒图"
   ]
  },
  {
   "cell_type": "markdown",
   "metadata": {
    "id": "248DAE6C77BF413692703A2F765C730B",
    "jupyter": {},
    "mdEditEnable": false,
    "slideshow": {
     "slide_type": "slide"
    },
    "tags": []
   },
   "source": [
    "- 函数功能：绘制$y$轴方向或者是$x$轴方向的误差范围\n",
    "- 调用方法：`plt.errorbar(x,y,yerr=a,xerr=b)`\n",
    "- 参数说明\n",
    "    * `x`: 数据点的水平位置\n",
    "    * `y`: 数据点的垂直位置\n",
    "    * `yerr`: y轴方向数据点的误差\n",
    "    * `xerr`: x轴方向数据点的误差"
   ]
  },
  {
   "cell_type": "code",
   "execution_count": 48,
   "metadata": {
    "id": "57E71A821F0E4A01BA8A7FED16299DA8",
    "jupyter": {},
    "scrolled": false,
    "slideshow": {
     "slide_type": "slide"
    },
    "tags": []
   },
   "outputs": [
    {
     "data": {
      "text/plain": [
       "<ErrorbarContainer object of 3 artists>"
      ]
     },
     "execution_count": 48,
     "metadata": {},
     "output_type": "execute_result"
    },
    {
     "data": {
      "text/html": [
       "<img src=\"https://cdn.kesci.com/rt_upload/57E71A821F0E4A01BA8A7FED16299DA8/q7bdt1pys0.png\">"
      ],
      "text/plain": [
       "<Figure size 432x288 with 1 Axes>"
      ]
     },
     "metadata": {
      "needs_background": "light"
     },
     "output_type": "display_data"
    }
   ],
   "source": [
    "import matplotlib.pyplot as plt\n",
    "import numpy as np\n",
    "\n",
    "x = np.linspace(0.1,0.6,6)\n",
    "y = np.exp(x)\n",
    "\n",
    "plt.errorbar(x,y,fmt='bo:',yerr = [0.1, 0.1,0,0.2,0.1,0.3], xerr = 0.02)"
   ]
  },
  {
   "cell_type": "markdown",
   "metadata": {
    "id": "0AC795EB283149F3970D2F0FE12BE8C0",
    "jupyter": {},
    "mdEditEnable": false,
    "slideshow": {
     "slide_type": "slide"
    },
    "tags": []
   },
   "source": [
    "# 绘制进阶统计图形"
   ]
  },
  {
   "cell_type": "markdown",
   "metadata": {
    "id": "7A1E917B9C1E48EE8FB1276D9961F281",
    "jupyter": {},
    "mdEditEnable": false,
    "slideshow": {
     "slide_type": "slide"
    },
    "tags": []
   },
   "source": [
    "## 堆积柱状图"
   ]
  },
  {
   "cell_type": "markdown",
   "metadata": {
    "id": "FC8DE956A8FF4B0BAA3B5530381EC9B3",
    "jupyter": {},
    "mdEditEnable": false,
    "slideshow": {
     "slide_type": "slide"
    },
    "tags": []
   },
   "source": [
    "柱状图主要是应用在定性数据的可视化场景，或者是离散数据的分布展示。例如，\n",
    "- 一个本科班级的学生籍贯分布 \n",
    "- 出国旅游人士的职业分布\n",
    "- 下载一款APP产品的操作系统分布"
   ]
  },
  {
   "cell_type": "markdown",
   "metadata": {
    "id": "678B5FD3D5034CC79FF56131234F1447",
    "jupyter": {},
    "mdEditEnable": false,
    "slideshow": {
     "slide_type": "slide"
    },
    "tags": []
   },
   "source": [
    "关于简单的柱状图和条形图的用法，上一节已经介绍，这里我们研究更为复杂的图形。"
   ]
  },
  {
   "cell_type": "code",
   "execution_count": 25,
   "metadata": {
    "id": "FEBB8D8BEC094F7F919A128AB121913C",
    "jupyter": {},
    "scrolled": false,
    "slideshow": {
     "slide_type": "slide"
    },
    "tags": []
   },
   "outputs": [
    {
     "data": {
      "text/plain": [
       "<matplotlib.legend.Legend at 0x7feb380d2eb8>"
      ]
     },
     "execution_count": 25,
     "metadata": {},
     "output_type": "execute_result"
    },
    {
     "data": {
      "text/html": [
       "<img src=\"https://cdn.kesci.com/rt_upload/FEBB8D8BEC094F7F919A128AB121913C/q52rvrrfi8.png\">"
      ],
      "text/plain": [
       "<Figure size 432x288 with 1 Axes>"
      ]
     },
     "metadata": {
      "needs_background": "light"
     },
     "output_type": "display_data"
    }
   ],
   "source": [
    "import matplotlib.pyplot as plt\n",
    "\n",
    "# some simple data\n",
    "x = [1,2,3,4,5]\n",
    "y = [6,10,4,5,1]\n",
    "y1 = [2,6,3,8,5]\n",
    "y2 = [1,2,3,2,1]\n",
    "\n",
    "plt.bar(x,y,align='center',color='#66c2a5',tick_label = ['A','B','C','D','E'],label = 'ClassA')\n",
    "\n",
    "plt.bar(x,y1,align='center',bottom = y,color='#8da0cb',tick_label = ['A','B','C','D','E'],label = 'ClassB')\n",
    "\n",
    "plt.bar(x,y2,align='center',bottom = np.add(y,y1),color='r',tick_label = ['A','B','C','D','E'],label = 'ClassC')\n",
    "\n",
    "plt.xlabel('Difficulty')\n",
    "plt.ylabel('Number')\n",
    "\n",
    "plt.legend()"
   ]
  },
  {
   "cell_type": "code",
   "execution_count": 26,
   "metadata": {
    "id": "1B045663C1A146C9A5398C77063C4C51",
    "jupyter": {},
    "scrolled": false,
    "slideshow": {
     "slide_type": "slide"
    },
    "tags": []
   },
   "outputs": [
    {
     "data": {
      "text/plain": [
       "<matplotlib.legend.Legend at 0x7feb632bfb38>"
      ]
     },
     "execution_count": 26,
     "metadata": {},
     "output_type": "execute_result"
    },
    {
     "data": {
      "text/html": [
       "<img src=\"https://cdn.kesci.com/rt_upload/1B045663C1A146C9A5398C77063C4C51/q52rvr1xws.png\">"
      ],
      "text/plain": [
       "<Figure size 432x288 with 1 Axes>"
      ]
     },
     "metadata": {
      "needs_background": "light"
     },
     "output_type": "display_data"
    }
   ],
   "source": [
    "import matplotlib.pyplot as plt\n",
    "\n",
    "# some simple data\n",
    "x = [1,2,3,4,5]\n",
    "y = [6,10,4,5,1]\n",
    "y1 = [2,6,3,8,5]\n",
    "\n",
    "plt.barh(x,y,align='center',color='#66c2a5',tick_label = ['A','B','C','D','E'],label = 'ClassA')\n",
    "\n",
    "plt.barh(x,y1,align='center',left = y,color='#8da0cb',tick_label = ['A','B','C','D','E'],label = 'ClassB')\n",
    "\n",
    "plt.ylabel('Difficulty')\n",
    "plt.xlabel('Number')\n",
    "\n",
    "plt.legend()"
   ]
  },
  {
   "cell_type": "markdown",
   "metadata": {
    "id": "59294083152D46358C13A83DD13BD6BA",
    "jupyter": {},
    "mdEditEnable": false,
    "slideshow": {
     "slide_type": "slide"
    },
    "tags": []
   },
   "source": [
    "## 分块柱状图"
   ]
  },
  {
   "cell_type": "markdown",
   "metadata": {
    "id": "FA98E4ADD17D43EB92EA6221792772E0",
    "jupyter": {},
    "mdEditEnable": false,
    "slideshow": {
     "slide_type": "slide"
    },
    "tags": []
   },
   "source": [
    "除了将多数据以堆积图的形式进行可视化展示，我们还可以使用分块图的形式。"
   ]
  },
  {
   "cell_type": "code",
   "execution_count": 27,
   "metadata": {
    "id": "104BAE80CBBE44D78AF583B6C8F4DA7E",
    "jupyter": {},
    "scrolled": false,
    "slideshow": {
     "slide_type": "slide"
    },
    "tags": []
   },
   "outputs": [
    {
     "data": {
      "text/plain": [
       "<matplotlib.legend.Legend at 0x7feb6330b400>"
      ]
     },
     "execution_count": 27,
     "metadata": {},
     "output_type": "execute_result"
    },
    {
     "data": {
      "text/html": [
       "<img src=\"https://cdn.kesci.com/rt_upload/104BAE80CBBE44D78AF583B6C8F4DA7E/q52rvraj1l.png\">"
      ],
      "text/plain": [
       "<Figure size 432x288 with 1 Axes>"
      ]
     },
     "metadata": {
      "needs_background": "light"
     },
     "output_type": "display_data"
    }
   ],
   "source": [
    "import matplotlib.pyplot as plt\n",
    "\n",
    "# some simple data\n",
    "x = np.arange(5)\n",
    "y = [6,10,4,5,1]\n",
    "y1 = [2,6,3,8,5]\n",
    "\n",
    "bar_width = 0.35\n",
    "tick_label = ['A','B','C','D','E']\n",
    "plt.bar(x,y,bar_width,align='center',color='#66c2a5',tick_label = tick_label,label = 'ClassA')\n",
    "\n",
    "plt.bar(x+bar_width,y1,bar_width,align='center',color='#8da0cb',tick_label = tick_label,label = 'ClassB')\n",
    "\n",
    "plt.xlabel('Difficulty')\n",
    "plt.ylabel('Number')\n",
    "\n",
    "plt.xticks(x+bar_width/2,tick_label)\n",
    "\n",
    "plt.legend()"
   ]
  },
  {
   "cell_type": "markdown",
   "metadata": {
    "id": "3CE685A4AF364F1F98D44EEC6078F4E3",
    "jupyter": {},
    "mdEditEnable": false,
    "slideshow": {
     "slide_type": "slide"
    },
    "tags": []
   },
   "source": [
    "除此之外，使用`barh()`也可以达到类似的效果。"
   ]
  },
  {
   "cell_type": "code",
   "execution_count": 28,
   "metadata": {
    "id": "BBB792C4E1BA43818F03454F7172D2C5",
    "jupyter": {},
    "scrolled": false,
    "slideshow": {
     "slide_type": "slide"
    },
    "tags": []
   },
   "outputs": [
    {
     "data": {
      "text/plain": [
       "<matplotlib.legend.Legend at 0x7feb37ad01d0>"
      ]
     },
     "execution_count": 28,
     "metadata": {},
     "output_type": "execute_result"
    },
    {
     "data": {
      "text/html": [
       "<img src=\"https://cdn.kesci.com/rt_upload/BBB792C4E1BA43818F03454F7172D2C5/q52rvr4353.png\">"
      ],
      "text/plain": [
       "<Figure size 432x288 with 1 Axes>"
      ]
     },
     "metadata": {
      "needs_background": "light"
     },
     "output_type": "display_data"
    }
   ],
   "source": [
    "import matplotlib.pyplot as plt\n",
    "\n",
    "# some simple data\n",
    "x = np.arange(5)\n",
    "y = [6,10,4,5,1]\n",
    "y1 = [2,6,3,8,5]\n",
    "\n",
    "bar_width = 0.35\n",
    "tick_label = ['A','B','C','D','E']\n",
    "plt.barh(x,y,bar_width,align='center',color='#66c2a5',tick_label = tick_label,label = 'ClassA')\n",
    "\n",
    "plt.barh(x+bar_width,y1,bar_width,align='center',color='#8da0cb',tick_label = tick_label,label = 'ClassB')\n",
    "\n",
    "plt.ylabel('Difficulty')\n",
    "plt.xlabel('Number')\n",
    "\n",
    "plt.xticks(x+bar_width/2,tick_label)\n",
    "\n",
    "plt.legend()"
   ]
  },
  {
   "cell_type": "code",
   "execution_count": 51,
   "metadata": {
    "id": "C3C691C08C214BFB8E5EAAAB8FA364E4",
    "jupyter": {},
    "scrolled": false,
    "slideshow": {
     "slide_type": "slide"
    },
    "tags": []
   },
   "outputs": [
    {
     "data": {
      "text/plain": [
       "<matplotlib.legend.Legend at 0x7fa33d5fafd0>"
      ]
     },
     "execution_count": 51,
     "metadata": {},
     "output_type": "execute_result"
    },
    {
     "data": {
      "text/html": [
       "<img src=\"https://cdn.kesci.com/rt_upload/C3C691C08C214BFB8E5EAAAB8FA364E4/q7be97djbf.png\">"
      ],
      "text/plain": [
       "<Figure size 432x288 with 1 Axes>"
      ]
     },
     "metadata": {
      "needs_background": "light"
     },
     "output_type": "display_data"
    }
   ],
   "source": [
    "import matplotlib.pyplot as plt\n",
    "Country = ['韩国','伊朗','日本','马来西亚','巴林','新加坡','科威特','阿联酋']\n",
    "# some simple data\n",
    "x = range(8)\n",
    "y = [7212,5020,467,106,95,84,69,67]\n",
    "y1 = [54,291,12,0,0,0,0,0]\n",
    "y2 = [247,2731,102,23,14,82,0,0]\n",
    "\n",
    "plt.bar(x,y,align='center',color='c',tick_label = Country,label = '确诊')\n",
    "\n",
    "plt.bar(x,y1,align='center',bottom = y,color='r',tick_label =Country,label = '死亡')\n",
    "\n",
    "plt.bar(x,y2,align='center',bottom = np.add(y,y1),color='green',tick_label = Country,label = '治愈')\n",
    "\n",
    "plt.xlabel('国家')\n",
    "plt.ylabel('人数')\n",
    "\n",
    "plt.legend()"
   ]
  },
  {
   "cell_type": "markdown",
   "metadata": {
    "id": "A46B1CBFDF5847D886C7F4D48B570B26",
    "jupyter": {},
    "mdEditEnable": false,
    "slideshow": {
     "slide_type": "slide"
    },
    "tags": []
   },
   "source": [
    "\n",
    "课堂练习\n",
    "\n",
    "绘制确诊数据、疑似数据、死亡数据和治愈数据的柱状图。\n",
    "\n",
    "![Image Name](https://cdn.kesci.com/upload/image/q6zkf7ppgs.png?imageView2/0/w/960/h/960)\n",
    "\n"
   ]
  },
  {
   "cell_type": "markdown",
   "metadata": {
    "id": "44F9A02B84FE4871A0C6A7B02371579C",
    "jupyter": {},
    "mdEditEnable": false,
    "slideshow": {
     "slide_type": "slide"
    },
    "tags": []
   },
   "source": [
    "## 堆积折线图"
   ]
  },
  {
   "cell_type": "markdown",
   "metadata": {
    "id": "903EAE0E8E2F43E8B19DD847B7642D02",
    "jupyter": {},
    "mdEditEnable": false,
    "slideshow": {
     "slide_type": "slide"
    },
    "tags": []
   },
   "source": [
    "堆积柱状图的本质是将若干折线图放在同一个坐标轴上，以每条折线下部和下方折线作为填充边界，用一种颜色代表此折线的数值区域。"
   ]
  },
  {
   "cell_type": "code",
   "execution_count": 29,
   "metadata": {
    "id": "A7DEA72DA5914D51BE9F47C3665E4AAC",
    "jupyter": {},
    "scrolled": false,
    "slideshow": {
     "slide_type": "slide"
    },
    "tags": []
   },
   "outputs": [
    {
     "data": {
      "text/plain": [
       "<matplotlib.legend.Legend at 0x7feb37a3e8d0>"
      ]
     },
     "execution_count": 29,
     "metadata": {},
     "output_type": "execute_result"
    },
    {
     "data": {
      "text/html": [
       "<img src=\"https://cdn.kesci.com/rt_upload/A7DEA72DA5914D51BE9F47C3665E4AAC/q52rvrg1tz.png\">"
      ],
      "text/plain": [
       "<Figure size 432x288 with 1 Axes>"
      ]
     },
     "metadata": {
      "needs_background": "light"
     },
     "output_type": "display_data"
    }
   ],
   "source": [
    "import matplotlib.pyplot as plt\n",
    "import numpy as np\n",
    "x = np.arange(1,6,1)\n",
    "y = [0,4,3,5,6]\n",
    "y1 = [1,3,4,2,7]\n",
    "y2 = [3,4,1,6,5]\n",
    "\n",
    "labels = [\"BluePlanet\",\"BrownPlanet\",\"GreenPlanet\"]\n",
    "colors = [\"#8da0cb\",\"#fc8d62\",\"#66c2a5\"]\n",
    "\n",
    "plt.stackplot(x,y,y1,y2,labels = labels, colors = colors)\n",
    "\n",
    "plt.legend(loc = 'upper left')"
   ]
  },
  {
   "cell_type": "markdown",
   "metadata": {
    "id": "71E0364375914F498C04D7C8E3F07C31",
    "jupyter": {},
    "mdEditEnable": false,
    "slideshow": {
     "slide_type": "slide"
    },
    "tags": []
   },
   "source": [
    "## 间断条形图"
   ]
  },
  {
   "cell_type": "markdown",
   "metadata": {
    "id": "5309D5BB380D416F9AFCC9866FA72EF3",
    "jupyter": {},
    "mdEditEnable": false,
    "slideshow": {
     "slide_type": "slide"
    },
    "tags": []
   },
   "source": [
    "间断条形图是在条形图的基础上进行绘制的，主要用来可视化定性数据的相同指标在时间维度上的指标值。该方法是通过`broken_barh()`实现的"
   ]
  },
  {
   "cell_type": "code",
   "execution_count": 30,
   "metadata": {
    "id": "0D38D58AF433400C83A8EAF5BF783A48",
    "jupyter": {},
    "scrolled": false,
    "slideshow": {
     "slide_type": "slide"
    },
    "tags": []
   },
   "outputs": [
    {
     "data": {
      "text/html": [
       "<img src=\"https://cdn.kesci.com/rt_upload/0D38D58AF433400C83A8EAF5BF783A48/q52rvrppxf.png\">"
      ],
      "text/plain": [
       "<Figure size 432x288 with 1 Axes>"
      ]
     },
     "metadata": {
      "needs_background": "light"
     },
     "output_type": "display_data"
    }
   ],
   "source": [
    "import matplotlib.pyplot as plt\n",
    "import numpy as np\n",
    "\n",
    "plt.broken_barh([(30,100),(180,50),(260,70)],(20,8),facecolor = '#1f78b4')\n",
    "\n",
    "plt.broken_barh([(60,90),(190,20),(230,30),(280,60)],(10,8),\n",
    "                facecolor = ('#7fc97f','#beaed4','#fdc086','#ffff99'))\n",
    "\n",
    "plt.xlim(0,360)\n",
    "plt.ylim(5,35)\n",
    "plt.xlabel('Time')\n",
    "\n",
    "plt.xticks(np.arange(0,361,60))\n",
    "plt.yticks([15,25])\n",
    "plt.grid()"
   ]
  },
  {
   "cell_type": "markdown",
   "metadata": {
    "id": "DFFA75A7082E4D5AAE6DDD39CE54A6ED",
    "jupyter": {},
    "mdEditEnable": false,
    "slideshow": {
     "slide_type": "slide"
    },
    "tags": []
   },
   "source": [
    "## 内嵌环形饼图"
   ]
  },
  {
   "cell_type": "markdown",
   "metadata": {
    "id": "8498A66CAEB643E0B6A426EFD0D0AF06",
    "jupyter": {},
    "mdEditEnable": false,
    "slideshow": {
     "slide_type": "slide"
    },
    "tags": []
   },
   "source": [
    "我们先来回忆一下饼状图的绘制方法。"
   ]
  },
  {
   "cell_type": "code",
   "execution_count": 25,
   "metadata": {
    "id": "516B36AAF39E460489D4A5D398A379C5",
    "jupyter": {},
    "scrolled": false,
    "slideshow": {
     "slide_type": "slide"
    },
    "tags": []
   },
   "outputs": [
    {
     "data": {
      "text/html": [
       "<img src=\"https://cdn.kesci.com/rt_upload/516B36AAF39E460489D4A5D398A379C5/q53uu4r1i3.png\">"
      ],
      "text/plain": [
       "<Figure size 360x360 with 1 Axes>"
      ]
     },
     "metadata": {},
     "output_type": "display_data"
    }
   ],
   "source": [
    "import matplotlib.pyplot as plt\n",
    "plt.figure(figsize=(5,5))\n",
    "\n",
    "colors = [\"#e41a1c\",\"#377eb8\",\"#4daf4a\",\"#984ea3\"]\n",
    "soldNums = [0.05,0.45,0.15,0.35]\n",
    "kinds = ['case1','case2','case3','case4']\n",
    "\n",
    "explode = (0,0,0,0.35)\n",
    "\n",
    "plt.pie(soldNums,\n",
    "        explode = explode,\n",
    "       labels=kinds,\n",
    "       autopct=\"%3.1f%%\",\n",
    "       startangle=60,\n",
    "       colors=colors);"
   ]
  },
  {
   "cell_type": "markdown",
   "metadata": {
    "id": "6D5BED64C5C142FC8A1E75658CCB5E86",
    "jupyter": {},
    "mdEditEnable": false,
    "slideshow": {
     "slide_type": "slide"
    },
    "tags": []
   },
   "source": [
    "饼图不仅可以展示单一数据的分布情况，还可以通过内嵌式的环形饼图实现多个数据集之间的对比。"
   ]
  },
  {
   "cell_type": "code",
   "execution_count": 28,
   "metadata": {
    "id": "6907F8D5C290427189FFF2E363C167CD",
    "jupyter": {},
    "scrolled": false,
    "slideshow": {
     "slide_type": "slide"
    },
    "tags": []
   },
   "outputs": [
    {
     "data": {
      "text/plain": [
       "<matplotlib.legend.Legend at 0x7efdb347ceb8>"
      ]
     },
     "execution_count": 28,
     "metadata": {},
     "output_type": "execute_result"
    },
    {
     "data": {
      "text/html": [
       "<img src=\"https://cdn.kesci.com/rt_upload/6907F8D5C290427189FFF2E363C167CD/q53v0e2jsr.png\">"
      ],
      "text/plain": [
       "<Figure size 432x432 with 1 Axes>"
      ]
     },
     "metadata": {},
     "output_type": "display_data"
    }
   ],
   "source": [
    "import matplotlib.pyplot as plt\n",
    "import numpy as np\n",
    "\n",
    "plt.figure(figsize=(6,6))\n",
    "elements = [\"Flour\",\"Sugar\",\"Cream\",\"Strawberry\",\"Nuts\"]\n",
    "\n",
    "weight1 = [40,15,20,10,15]\n",
    "weight2 = [30,25,15,20,10]\n",
    "\n",
    "colormaplist = [\"#e41a1c\",\"#377eb8\",\"#4daf4a\",\"#984ea3\",\"#ff7f00\"]\n",
    "outer_color = colormaplist\n",
    "inner_color = colormaplist\n",
    "\n",
    "wedges1,texts1,autotexts1 = plt.pie(weight1,\n",
    "                                   autopct=\"%3.1f%%\",\n",
    "                                   radius=1,\n",
    "                                   pctdistance=0.85,\n",
    "                                   colors=outer_color,\n",
    "                                   textprops=dict(color= \"w\"),\n",
    "                                   wedgeprops=dict(width=0.3, edgecolor = 'w'))\n",
    "\n",
    "wedges1,texts1,autotexts1 = plt.pie(weight2,\n",
    "                                   autopct=\"%3.1f%%\",\n",
    "                                   radius=0.75,\n",
    "                                   pctdistance=0.75,\n",
    "                                   colors=outer_color,\n",
    "                                   textprops=dict(color= \"w\"),\n",
    "                                   wedgeprops=dict(width=0.3, edgecolor = 'w'))\n",
    "plt.legend(wedges1,elements,fontsize = 12, loc = 'center right',bbox_to_anchor = (1,0,0.3,1))"
   ]
  },
  {
   "cell_type": "markdown",
   "metadata": {
    "id": "4AB56A882B0641A89B1A68E2B0156022",
    "jupyter": {},
    "mdEditEnable": false,
    "slideshow": {
     "slide_type": "slide"
    },
    "tags": []
   },
   "source": [
    "## 箱线图"
   ]
  },
  {
   "cell_type": "markdown",
   "metadata": {
    "id": "0C185EDB68B049A3A4922B88D78016BA",
    "jupyter": {},
    "mdEditEnable": false,
    "slideshow": {
     "slide_type": "slide"
    },
    "tags": []
   },
   "source": [
    "箱线图是由一个箱体和一对箱须所组成的统计图形。箱体是由第一四分位数、中位数（第二四分位数）、和第三四分位数组成的。在箱须末端之外的数值可以理解为离群值，因此，箱须是对一组数据范围的大致直观描述。"
   ]
  },
  {
   "cell_type": "markdown",
   "metadata": {
    "id": "54287193BA2F4AE08A896136D8293EAA",
    "jupyter": {},
    "mdEditEnable": false,
    "slideshow": {
     "slide_type": "slide"
    },
    "tags": []
   },
   "source": [
    "箱线图主要应用于一系列测量或者观测数据的比较场景中，例如学校间或班级间的测试成绩比较，球队中的队员体能对比，产品优化前后的测试比较以及同类产品的各项性能之间的比较等等。箱线图的应用非常广泛，实现也很简单。"
   ]
  },
  {
   "cell_type": "code",
   "execution_count": 33,
   "metadata": {
    "id": "DA1C87109C13433C8BE2CB81C992D77F",
    "jupyter": {},
    "scrolled": false,
    "slideshow": {
     "slide_type": "slide"
    },
    "tags": []
   },
   "outputs": [
    {
     "data": {
      "text/html": [
       "<img src=\"https://cdn.kesci.com/rt_upload/DA1C87109C13433C8BE2CB81C992D77F/q52rvsrwuy.png\">"
      ],
      "text/plain": [
       "<Figure size 432x288 with 1 Axes>"
      ]
     },
     "metadata": {
      "needs_background": "light"
     },
     "output_type": "display_data"
    }
   ],
   "source": [
    "import matplotlib.pyplot as plt\n",
    "import numpy as np\n",
    "\n",
    "testA = np.random.randn(5000)\n",
    "testB = np.random.randn(5000)\n",
    "\n",
    "testlist = [testA,testB]\n",
    "labels = [\"AlphaRM\",\"BetaRM\"]\n",
    "\n",
    "whis = 2.5 # 四分位间距的倍数\n",
    "width = 0.35\n",
    "\n",
    "plt.boxplot(testlist,\n",
    "           whis= whis,\n",
    "           widths=width,\n",
    "           sym='o',   # 离群值的标记样式\n",
    "           labels=labels,\n",
    "           notch=True,\n",
    "           patch_artist=False); # 是否给箱体添加颜色\n",
    "plt.ylabel('Random Number')\n",
    "\n",
    "plt.grid(linestyle = '--',alpha = 0.3)"
   ]
  },
  {
   "cell_type": "markdown",
   "metadata": {
    "ExecuteTime": {
     "end_time": "2019-08-11T20:22:07.442378Z",
     "start_time": "2019-08-11T20:22:07.438284Z"
    },
    "id": "6A2EE468BFC34F6F895FD70B2843DB42",
    "jupyter": {},
    "mdEditEnable": false,
    "slideshow": {
     "slide_type": "slide"
    },
    "tags": []
   },
   "source": [
    "**<font color=green size=3> 延伸阅读：箱体、箱须、离群值的含义和计算方法</font>**"
   ]
  },
  {
   "cell_type": "markdown",
   "metadata": {
    "id": "B913AE905D0D46BB994CE3A3A5D1396D",
    "jupyter": {},
    "mdEditEnable": false,
    "slideshow": {
     "slide_type": "slide"
    },
    "tags": []
   },
   "source": [
    "- 箱线图，百度百科 \n",
    "https://baike.baidu.com/item/%E7%AE%B1%E5%BD%A2%E5%9B%BE/10671164?fromtitle=%E7%AE%B1%E7%BA%BF%E5%9B%BE&fromid=10101649\n",
    "- 箱线图，维基百科 \n",
    "https://zh.wikipedia.org/zh-hans/%E7%AE%B1%E5%BD%A2%E5%9C%96"
   ]
  },
  {
   "cell_type": "markdown",
   "metadata": {
    "id": "A7A09368E2DE46C3966D70C9C3DCBD1D",
    "jupyter": {},
    "mdEditEnable": false,
    "slideshow": {
     "slide_type": "slide"
    },
    "tags": []
   },
   "source": [
    "# 完善统计图形"
   ]
  },
  {
   "cell_type": "markdown",
   "metadata": {
    "id": "146B92799E2D415487E7433D35981C92",
    "jupyter": {},
    "mdEditEnable": false,
    "slideshow": {
     "slide_type": "slide"
    },
    "tags": []
   },
   "source": [
    "## 添加图例和标题"
   ]
  },
  {
   "cell_type": "markdown",
   "metadata": {
    "id": "EF6159C33C7D421986B691325BF037F3",
    "jupyter": {},
    "mdEditEnable": false,
    "slideshow": {
     "slide_type": "slide"
    },
    "tags": []
   },
   "source": [
    "在绘图区域可能有多个图形，而这些图形如果不加说明，观察者则很难辨识出这些图形的主要内容。因此，我们需要对这些图形添加标签进行说明，这些标签就是图例。同样，一个言简意赅的标题同样能够帮助观察者了解图形的绘制内容。"
   ]
  },
  {
   "cell_type": "markdown",
   "metadata": {
    "id": "DF0913F8117E4E1A898DE23FF3CCD6AD",
    "jupyter": {},
    "mdEditEnable": false,
    "slideshow": {
     "slide_type": "slide"
    },
    "tags": []
   },
   "source": [
    "### 图例和标题的设置方法"
   ]
  },
  {
   "cell_type": "markdown",
   "metadata": {
    "id": "371BDE557E9846048F22242E419B6E9E",
    "jupyter": {},
    "mdEditEnable": false,
    "slideshow": {
     "slide_type": "slide"
    },
    "tags": []
   },
   "source": [
    "图例和标签的设置主要使用`legend()`和`title()`方法"
   ]
  },
  {
   "cell_type": "code",
   "execution_count": 1,
   "metadata": {
    "id": "01B98286637C4F1F81B1310EE0E140F3",
    "jupyter": {},
    "scrolled": false,
    "slideshow": {
     "slide_type": "slide"
    },
    "tags": []
   },
   "outputs": [
    {
     "name": "stderr",
     "output_type": "stream",
     "text": [
      "Matplotlib is building the font cache using fc-list. This may take a moment.\n"
     ]
    },
    {
     "data": {
      "text/plain": [
       "<matplotlib.legend.Legend at 0x7f86020ea240>"
      ]
     },
     "execution_count": 1,
     "metadata": {},
     "output_type": "execute_result"
    },
    {
     "data": {
      "text/html": [
       "<img src=\"https://cdn.kesci.com/rt_upload/01B98286637C4F1F81B1310EE0E140F3/q77n5jm7j2.png\">"
      ],
      "text/plain": [
       "<Figure size 432x288 with 1 Axes>"
      ]
     },
     "metadata": {
      "needs_background": "light"
     },
     "output_type": "display_data"
    }
   ],
   "source": [
    "import numpy as np\n",
    "import matplotlib.pyplot as plt\n",
    "%matplotlib inline\n",
    "\n",
    "x = np.linspace(-2*np.pi,2*np.pi,200)\n",
    "y = np.sin(x)\n",
    "y1 = np.cos(x)\n",
    "\n",
    "plt.plot(x,y,label = \"$\\sin(x)$\")\n",
    "plt.plot(x,y1,label = \"$\\cos(x)$\")\n",
    "plt.xlabel(r'x')\n",
    "plt.legend()"
   ]
  },
  {
   "cell_type": "markdown",
   "metadata": {
    "id": "EC8EF9CE1EBC468CB85B9B07053FB131",
    "jupyter": {},
    "mdEditEnable": false,
    "slideshow": {
     "slide_type": "slide"
    },
    "tags": []
   },
   "source": [
    "## 图形大小、字体和字号的设置"
   ]
  },
  {
   "cell_type": "markdown",
   "metadata": {
    "id": "B14AAEC44CCC44B48C8E7B59F10FEE1E",
    "jupyter": {},
    "mdEditEnable": false,
    "slideshow": {
     "slide_type": "slide"
    },
    "tags": []
   },
   "source": [
    "有的时候我们想调整图形的字号大小，方便观察。"
   ]
  },
  {
   "cell_type": "code",
   "execution_count": 3,
   "metadata": {
    "id": "2C54300C7CCB4249882DD7629EB64292",
    "jupyter": {},
    "scrolled": false,
    "slideshow": {
     "slide_type": "slide"
    },
    "tags": []
   },
   "outputs": [
    {
     "data": {
      "text/plain": [
       "Text(0, 0.5, '$f(x)$')"
      ]
     },
     "execution_count": 3,
     "metadata": {},
     "output_type": "execute_result"
    },
    {
     "data": {
      "text/html": [
       "<img src=\"https://cdn.kesci.com/rt_upload/2C54300C7CCB4249882DD7629EB64292/q77naj9luz.png\">"
      ],
      "text/plain": [
       "<Figure size 1080x432 with 1 Axes>"
      ]
     },
     "metadata": {
      "needs_background": "light"
     },
     "output_type": "display_data"
    }
   ],
   "source": [
    "plt.figure(figsize=(15,6))  # 设置图像的大小\n",
    "x = np.linspace(-2*np.pi,2*np.pi,200)\n",
    "y = np.sin(x)\n",
    "y1 = np.cos(x)\n",
    "plt.plot(x,y,label = 'sin(x)')\n",
    "plt.plot(x,y1,label = 'cos(x)')\n",
    "plt.legend(fontsize = 20)  # 设置图例的大小\n",
    "plt.title('$f(x) = sin(x)$',fontsize = 20)  # 设置标题的大小\n",
    "plt.tick_params(labelsize=20)  # 设置刻度的字体大小\n",
    "plt.xlabel(r'$x$',fontsize = 20)  # 设置横轴标签的字体大小\n",
    "plt.ylabel(r'$f(x)$',fontsize = 20)  # 设置纵轴标签的字体大小"
   ]
  },
  {
   "cell_type": "markdown",
   "metadata": {
    "id": "37177DCB9E84488D9B564D61A943EFCC",
    "jupyter": {},
    "mdEditEnable": false,
    "slideshow": {
     "slide_type": "slide"
    },
    "tags": []
   },
   "source": [
    "## 多个子图的绘制"
   ]
  },
  {
   "cell_type": "markdown",
   "metadata": {
    "id": "CFB1EA792A204A388526F04DC2F25FAF",
    "jupyter": {},
    "mdEditEnable": false,
    "slideshow": {
     "slide_type": "slide"
    },
    "tags": []
   },
   "source": [
    "子图的本质是将绘图区划分为网格，在纵横交错的并列网格中，添加绘图坐标轴。实现了一张画图绘制多张图片。"
   ]
  },
  {
   "cell_type": "markdown",
   "metadata": {
    "id": "102311666ED94D2E85462C00B1D17562",
    "jupyter": {},
    "mdEditEnable": false,
    "slideshow": {
     "slide_type": "slide"
    },
    "tags": []
   },
   "source": [
    "### 函数`subplot()`：绘制网格区域中的几何形状相同的子区布局"
   ]
  },
  {
   "cell_type": "code",
   "execution_count": 4,
   "metadata": {
    "id": "587C0DA709894121BEBE7E073F479E01",
    "jupyter": {},
    "scrolled": false,
    "slideshow": {
     "slide_type": "slide"
    },
    "tags": []
   },
   "outputs": [
    {
     "data": {
      "text/plain": [
       "[<matplotlib.lines.Line2D at 0x7f6930746b00>]"
      ]
     },
     "execution_count": 4,
     "metadata": {},
     "output_type": "execute_result"
    },
    {
     "data": {
      "text/html": [
       "<img src=\"https://cdn.kesci.com/rt_upload/587C0DA709894121BEBE7E073F479E01/q7d475jvjp.png\">"
      ],
      "text/plain": [
       "<Figure size 720x288 with 4 Axes>"
      ]
     },
     "metadata": {
      "needs_background": "light"
     },
     "output_type": "display_data"
    }
   ],
   "source": [
    "import numpy as np \n",
    "import matplotlib.pyplot as plt\n",
    "\n",
    "x = np.linspace(-2*np.pi,2*np.pi,200)\n",
    "plt.figure(figsize=(10,4))\n",
    "y = np.sin(x)\n",
    "y1 = np.cos(x)\n",
    "\n",
    "\n",
    "plt.subplot(2,3,1)\n",
    "plt.plot(x,y,label = \"$\\sin(x)$\")\n",
    "\n",
    "\n",
    "\n",
    "plt.subplot(2,3,2)\n",
    "plt.plot(x,y1,label = \"$\\cos(x)$\")\n",
    "\n",
    "plt.subplot(2,3,3)\n",
    "plt.plot(x,y,label = \"$\\sin(x)$\")\n",
    "plt.subplot(2,3,6)\n",
    "plt.plot(x,y1,label = \"$\\cos(x)$\")\n",
    "#plt.savefig('test1.pdf')"
   ]
  },
  {
   "cell_type": "markdown",
   "metadata": {
    "id": "528DF0A7E2B145A7BC60EAE173CACDA2",
    "jupyter": {},
    "mdEditEnable": false,
    "slideshow": {
     "slide_type": "slide"
    },
    "tags": []
   },
   "source": [
    "# 实用案例：多个统计图形的组合展示"
   ]
  },
  {
   "cell_type": "markdown",
   "metadata": {
    "id": "D09A960AF4EB4938AC6AF4BC7D6671EC",
    "jupyter": {},
    "mdEditEnable": false,
    "scrolled": false,
    "slideshow": {
     "slide_type": "slide"
    },
    "tags": []
   },
   "source": [
    "这里介绍一个一种可行的写法，不过新手也可以单独绘制每一张图，然后将其手动拼合在一起。"
   ]
  },
  {
   "cell_type": "code",
   "execution_count": 4,
   "metadata": {
    "id": "26BF4319229A488B8D590EDA5B1A1851",
    "jupyter": {},
    "scrolled": false,
    "slideshow": {
     "slide_type": "slide"
    },
    "tags": []
   },
   "outputs": [
    {
     "name": "stderr",
     "output_type": "stream",
     "text": [
      "/opt/conda/lib/python3.6/site-packages/ipykernel_launcher.py:43: UserWarning: In Matplotlib 3.3 individual lines on a stem plot will be added as a LineCollection instead of individual lines. This significantly improves the performance of a stem plot. To remove this warning and switch to the new behaviour, set the \"use_line_collection\" keyword argument to True.\n"
     ]
    },
    {
     "data": {
      "text/html": [
       "<img src=\"https://cdn.kesci.com/rt_upload/26BF4319229A488B8D590EDA5B1A1851/q77nik81lz.png\">"
      ],
      "text/plain": [
       "<Figure size 1080x720 with 6 Axes>"
      ]
     },
     "metadata": {
      "needs_background": "light"
     },
     "output_type": "display_data"
    }
   ],
   "source": [
    "import matplotlib.pyplot as plt\n",
    "import numpy as np\n",
    "fig,ax = plt.subplots(2,3,figsize = (15,10))\n",
    "\n",
    "# subplot(2,3,1)\n",
    "colors = ['#8dd3c7','#ffffb3','#bebada']\n",
    "ax[0,0].bar([1,2,3],[0.6,0.8,0.2],color = colors, width = 0.5, hatch = '///',align = 'center')\n",
    "\n",
    "# subplot(2,3,2)\n",
    "x = np.linspace(-2*np.pi,2*np.pi,200)\n",
    "y = np.sin(x)\n",
    "y1 = np.cos(x)\n",
    "ax[0,1].plot(x,y,'r',label = \"$\\sin(x)$\")\n",
    "ax[0,1].plot(x,y1,'b',label = \"$\\cos(x)$\")\n",
    "ax[0,1].legend()  # 设置图例的大小\n",
    "plt.xlabel('$x$')  # 设置横轴标签的字体大小\n",
    "plt.ylabel('$f(x)$')  # 设置纵轴标签的字体大小\n",
    "\n",
    "# subplot(2,3,3)\n",
    "x = [1,2,3,4,5,6,7,8]\n",
    "y = [3,1,4,5,8,9,7,2]\n",
    "\n",
    "ax[0,2].barh(x,y,align='center',color='c',tick_label = ['A','B','C','D','E','F','G','H'])\n",
    "\n",
    "plt.ylabel('Container No.')\n",
    "plt.xlabel('Weight (kg)')\n",
    "\n",
    "# subplot(2,3,4)\n",
    "import matplotlib as mpl\n",
    "a = np.random.randn(100)\n",
    "b = np.random.randn(100)\n",
    "\n",
    "ax[1,0].scatter(a,b,\n",
    "           s=np.power(10*a+20*b,2),\n",
    "           c = np.random.randn(100),\n",
    "           cmap=mpl.cm.RdYlBu,\n",
    "           marker='o')\n",
    "\n",
    "# subplot(2,3,5)\n",
    "x = np.linspace(0.5,2*np.pi,20)\n",
    "y = np.random.randn(20)\n",
    "\n",
    "ax[1,1].stem(x,y,linefmt = '-.', markerfmt = 'o', basefmt = '-')\n",
    "\n",
    "\n",
    "\n",
    "# subplot(2,3,6)\n",
    "elements = [\"Flour\",\"Sugar\",\"Cream\",\"Strawberry\",\"Nuts\"]\n",
    "\n",
    "weight1 = [40,15,20,10,15]\n",
    "weight2 = [30,25,15,20,10]\n",
    "\n",
    "colormaplist = [\"#e41a1c\",\"#377eb8\",\"#4daf4a\",\"#984ea3\",\"#ff7f00\"]\n",
    "outer_color = colormaplist\n",
    "inner_color = colormaplist\n",
    "\n",
    "wedges1,texts1,autotexts1 = ax[1,2].pie(weight1,\n",
    "                                   autopct=\"%3.1f%%\",\n",
    "                                   radius=1,\n",
    "                                   pctdistance=0.85,\n",
    "                                   colors=outer_color,\n",
    "                                   textprops=dict(color= \"w\"),\n",
    "                                   wedgeprops=dict(width=0.3, edgecolor = 'w'))\n",
    "\n",
    "wedges1,texts1,autotextdds1 = ax[1,2].pie(weight2,\n",
    "                                   autopct=\"%3.1f%%\",\n",
    "                                   radius=0.75,\n",
    "                                   pctdistance=0.75,\n",
    "                                   colors=outer_color,\n",
    "                                   textprops=dict(color= \"w\"),\n",
    "                                   wedgeprops=dict(width=0.3, edgecolor = 'w'))\n",
    "plt.legend(wedges1,elements,fontsize = 12, loc = 'center right',bbox_to_anchor = (1,0,0.3,1))\n",
    "plt.savefig('group.pdf')"
   ]
  },
  {
   "cell_type": "code",
   "execution_count": null,
   "metadata": {
    "id": "1CA81C2D608442B79572FB3FB1CC96D7",
    "jupyter": {},
    "slideshow": {
     "slide_type": "slide"
    },
    "tags": []
   },
   "outputs": [],
   "source": []
  },
  {
   "cell_type": "markdown",
   "metadata": {
    "id": "95A1D4B8CF6F47E88E78BD3E6BF2A5F3",
    "jupyter": {},
    "mdEditEnable": false,
    "slideshow": {
     "slide_type": "slide"
    },
    "tags": []
   },
   "source": [
    "# 课后作业"
   ]
  },
  {
   "cell_type": "markdown",
   "metadata": {
    "id": "E556F0D3675949F1BAE5AB51923B56D9",
    "jupyter": {},
    "mdEditEnable": false,
    "slideshow": {
     "slide_type": "slide"
    },
    "tags": []
   },
   "source": [
    "1.  Plotting a function Plot the function \n",
    "$$\n",
    "f(x) = \\sin^2(x−2)e^{−x^2} ,x \\in [0,2]\n",
    "$$ \n",
    "Add proper axis labels, a title, etc.\n",
    "2. 按照如下要求，以2*2的比例绘制成一个大图（注意给每个图片加上x轴，y轴，和标题）。\n",
    "\t - $f(x) = \\sin(x)$的曲线图\n",
    "\t - 课堂练习中绘制的柱状图\n",
    "\t - 课堂练习中绘制的饼状图\n",
    "\t - 任意一个课程学到的，你想重现的图形"
   ]
  },
  {
   "cell_type": "code",
   "execution_count": 27,
   "metadata": {
    "id": "37C3F6D341A84DBC8B376927D6419704",
    "jupyter": {},
    "scrolled": false,
    "slideshow": {
     "slide_type": "slide"
    },
    "tags": []
   },
   "outputs": [
    {
     "data": {
      "text/plain": [
       "Text(0.5, 1.0, '$f(x) = \\\\sin^2(x−2)e^{−x^2}$')"
      ]
     },
     "execution_count": 27,
     "metadata": {},
     "output_type": "execute_result"
    },
    {
     "data": {
      "text/html": [
       "<img src=\"https://cdn.kesci.com/rt_upload/37C3F6D341A84DBC8B376927D6419704/q7ymlszsgf.png\">"
      ],
      "text/plain": [
       "<Figure size 432x288 with 1 Axes>"
      ]
     },
     "metadata": {
      "needs_background": "light"
     },
     "output_type": "display_data"
    }
   ],
   "source": [
    "x = np.linspace(0,2,100)\n",
    "y = (np.sin(x-2))**2 * np.exp(-x**2)\n",
    "plt.plot(x,y)\n",
    "plt.xlabel('x')\n",
    "plt.ylabel('f(x)')\n",
    "plt.title('$f(x) = \\sin^2(x−2)e^{−x^2}$')"
   ]
  },
  {
   "cell_type": "code",
   "execution_count": null,
   "metadata": {
    "id": "3E843D1CA61E4A82A62D4045AB50F094",
    "jupyter": {},
    "slideshow": {
     "slide_type": "slide"
    },
    "tags": []
   },
   "outputs": [],
   "source": []
  }
 ],
 "metadata": {
  "kernelspec": {
   "display_name": "Python 3",
   "language": "python",
   "name": "python3"
  },
  "language_info": {
   "codemirror_mode": {
    "name": "ipython",
    "version": 3
   },
   "file_extension": ".py",
   "mimetype": "text/x-python",
   "name": "python",
   "nbconvert_exporter": "python",
   "pygments_lexer": "ipython3",
   "version": "3.6.4"
  },
  "toc": {
   "base_numbering": 1,
   "nav_menu": {},
   "number_sections": true,
   "sideBar": true,
   "skip_h1_title": false,
   "title_cell": "Table of Contents",
   "title_sidebar": "Contents",
   "toc_cell": false,
   "toc_position": {},
   "toc_section_display": true,
   "toc_window_display": false
  }
 },
 "nbformat": 4,
 "nbformat_minor": 2
}
